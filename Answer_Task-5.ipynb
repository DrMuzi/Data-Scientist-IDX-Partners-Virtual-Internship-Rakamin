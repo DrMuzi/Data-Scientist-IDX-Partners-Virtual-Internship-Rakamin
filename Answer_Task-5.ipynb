{
 "cells": [
  {
   "cell_type": "markdown",
   "id": "99597ca5-47d9-4f63-bed9-b3d873f16841",
   "metadata": {},
   "source": [
    "# LIBRARIES"
   ]
  },
  {
   "cell_type": "code",
   "execution_count": 1,
   "id": "66707289-c198-4047-ac46-0de7a73a533c",
   "metadata": {},
   "outputs": [],
   "source": [
    "import numpy as np \n",
    "\n",
    "import pandas as pd \n",
    "pd.set_option('display.max_columns', None)\n",
    "pd.set_option('display.max_rows', 99)\n",
    "\n",
    "import matplotlib.pyplot as plt \n",
    "import seaborn as sns \n",
    "sns.set()"
   ]
  },
  {
   "cell_type": "markdown",
   "id": "e39d1c0c-0778-4f15-bacb-6ec77b9259d5",
   "metadata": {
    "tags": []
   },
   "source": [
    "# IMPORTING DATA "
   ]
  },
  {
   "cell_type": "code",
   "execution_count": 2,
   "id": "a52599e9-619e-4263-b5a5-d14dbea62c44",
   "metadata": {},
   "outputs": [
    {
     "name": "stderr",
     "output_type": "stream",
     "text": [
      "/Users/aai-ds/opt/anaconda3/lib/python3.9/site-packages/IPython/core/interactiveshell.py:3444: DtypeWarning: Columns (20) have mixed types.Specify dtype option on import or set low_memory=False.\n",
      "  exec(code_obj, self.user_global_ns, self.user_ns)\n"
     ]
    }
   ],
   "source": [
    "data_raw = pd.read_csv('loan_data_2007_2014.csv', index_col=0)"
   ]
  },
  {
   "cell_type": "markdown",
   "id": "e8ea4fa6-0ae4-4435-adab-641d2f3a26b9",
   "metadata": {},
   "source": [
    "# EXPLORING DATA "
   ]
  },
  {
   "cell_type": "code",
   "execution_count": 3,
   "id": "d14e5613-33db-4928-b4f0-13c2c957aaeb",
   "metadata": {},
   "outputs": [
    {
     "data": {
      "text/plain": [
       "(466285, 74)"
      ]
     },
     "execution_count": 3,
     "metadata": {},
     "output_type": "execute_result"
    }
   ],
   "source": [
    "data_raw.shape"
   ]
  },
  {
   "cell_type": "code",
   "execution_count": 4,
   "id": "14f2a434-98e4-426d-8914-5b56dba4f1c3",
   "metadata": {
    "scrolled": true,
    "tags": []
   },
   "outputs": [
    {
     "name": "stdout",
     "output_type": "stream",
     "text": [
      "<class 'pandas.core.frame.DataFrame'>\n",
      "Int64Index: 466285 entries, 0 to 466284\n",
      "Data columns (total 74 columns):\n",
      " #   Column                       Non-Null Count   Dtype  \n",
      "---  ------                       --------------   -----  \n",
      " 0   id                           466285 non-null  int64  \n",
      " 1   member_id                    466285 non-null  int64  \n",
      " 2   loan_amnt                    466285 non-null  int64  \n",
      " 3   funded_amnt                  466285 non-null  int64  \n",
      " 4   funded_amnt_inv              466285 non-null  float64\n",
      " 5   term                         466285 non-null  object \n",
      " 6   int_rate                     466285 non-null  float64\n",
      " 7   installment                  466285 non-null  float64\n",
      " 8   grade                        466285 non-null  object \n",
      " 9   sub_grade                    466285 non-null  object \n",
      " 10  emp_title                    438697 non-null  object \n",
      " 11  emp_length                   445277 non-null  object \n",
      " 12  home_ownership               466285 non-null  object \n",
      " 13  annual_inc                   466281 non-null  float64\n",
      " 14  verification_status          466285 non-null  object \n",
      " 15  issue_d                      466285 non-null  object \n",
      " 16  loan_status                  466285 non-null  object \n",
      " 17  pymnt_plan                   466285 non-null  object \n",
      " 18  url                          466285 non-null  object \n",
      " 19  desc                         125983 non-null  object \n",
      " 20  purpose                      466285 non-null  object \n",
      " 21  title                        466265 non-null  object \n",
      " 22  zip_code                     466285 non-null  object \n",
      " 23  addr_state                   466285 non-null  object \n",
      " 24  dti                          466285 non-null  float64\n",
      " 25  delinq_2yrs                  466256 non-null  float64\n",
      " 26  earliest_cr_line             466256 non-null  object \n",
      " 27  inq_last_6mths               466256 non-null  float64\n",
      " 28  mths_since_last_delinq       215934 non-null  float64\n",
      " 29  mths_since_last_record       62638 non-null   float64\n",
      " 30  open_acc                     466256 non-null  float64\n",
      " 31  pub_rec                      466256 non-null  float64\n",
      " 32  revol_bal                    466285 non-null  int64  \n",
      " 33  revol_util                   465945 non-null  float64\n",
      " 34  total_acc                    466256 non-null  float64\n",
      " 35  initial_list_status          466285 non-null  object \n",
      " 36  out_prncp                    466285 non-null  float64\n",
      " 37  out_prncp_inv                466285 non-null  float64\n",
      " 38  total_pymnt                  466285 non-null  float64\n",
      " 39  total_pymnt_inv              466285 non-null  float64\n",
      " 40  total_rec_prncp              466285 non-null  float64\n",
      " 41  total_rec_int                466285 non-null  float64\n",
      " 42  total_rec_late_fee           466285 non-null  float64\n",
      " 43  recoveries                   466285 non-null  float64\n",
      " 44  collection_recovery_fee      466285 non-null  float64\n",
      " 45  last_pymnt_d                 465909 non-null  object \n",
      " 46  last_pymnt_amnt              466285 non-null  float64\n",
      " 47  next_pymnt_d                 239071 non-null  object \n",
      " 48  last_credit_pull_d           466243 non-null  object \n",
      " 49  collections_12_mths_ex_med   466140 non-null  float64\n",
      " 50  mths_since_last_major_derog  98974 non-null   float64\n",
      " 51  policy_code                  466285 non-null  int64  \n",
      " 52  application_type             466285 non-null  object \n",
      " 53  annual_inc_joint             0 non-null       float64\n",
      " 54  dti_joint                    0 non-null       float64\n",
      " 55  verification_status_joint    0 non-null       float64\n",
      " 56  acc_now_delinq               466256 non-null  float64\n",
      " 57  tot_coll_amt                 396009 non-null  float64\n",
      " 58  tot_cur_bal                  396009 non-null  float64\n",
      " 59  open_acc_6m                  0 non-null       float64\n",
      " 60  open_il_6m                   0 non-null       float64\n",
      " 61  open_il_12m                  0 non-null       float64\n",
      " 62  open_il_24m                  0 non-null       float64\n",
      " 63  mths_since_rcnt_il           0 non-null       float64\n",
      " 64  total_bal_il                 0 non-null       float64\n",
      " 65  il_util                      0 non-null       float64\n",
      " 66  open_rv_12m                  0 non-null       float64\n",
      " 67  open_rv_24m                  0 non-null       float64\n",
      " 68  max_bal_bc                   0 non-null       float64\n",
      " 69  all_util                     0 non-null       float64\n",
      " 70  total_rev_hi_lim             396009 non-null  float64\n",
      " 71  inq_fi                       0 non-null       float64\n",
      " 72  total_cu_tl                  0 non-null       float64\n",
      " 73  inq_last_12m                 0 non-null       float64\n",
      "dtypes: float64(46), int64(6), object(22)\n",
      "memory usage: 266.8+ MB\n"
     ]
    }
   ],
   "source": [
    "data_raw.info()"
   ]
  },
  {
   "cell_type": "code",
   "execution_count": 5,
   "id": "ae2de89b-b107-4aed-a27a-d3e459dad9a7",
   "metadata": {},
   "outputs": [
    {
     "data": {
      "text/html": [
       "<div>\n",
       "<style scoped>\n",
       "    .dataframe tbody tr th:only-of-type {\n",
       "        vertical-align: middle;\n",
       "    }\n",
       "\n",
       "    .dataframe tbody tr th {\n",
       "        vertical-align: top;\n",
       "    }\n",
       "\n",
       "    .dataframe thead th {\n",
       "        text-align: right;\n",
       "    }\n",
       "</style>\n",
       "<table border=\"1\" class=\"dataframe\">\n",
       "  <thead>\n",
       "    <tr style=\"text-align: right;\">\n",
       "      <th></th>\n",
       "      <th>id</th>\n",
       "      <th>member_id</th>\n",
       "      <th>loan_amnt</th>\n",
       "      <th>funded_amnt</th>\n",
       "      <th>funded_amnt_inv</th>\n",
       "      <th>term</th>\n",
       "      <th>int_rate</th>\n",
       "      <th>installment</th>\n",
       "      <th>grade</th>\n",
       "      <th>sub_grade</th>\n",
       "      <th>emp_title</th>\n",
       "      <th>emp_length</th>\n",
       "      <th>home_ownership</th>\n",
       "      <th>annual_inc</th>\n",
       "      <th>verification_status</th>\n",
       "      <th>issue_d</th>\n",
       "      <th>loan_status</th>\n",
       "      <th>pymnt_plan</th>\n",
       "      <th>url</th>\n",
       "      <th>desc</th>\n",
       "      <th>purpose</th>\n",
       "      <th>title</th>\n",
       "      <th>zip_code</th>\n",
       "      <th>addr_state</th>\n",
       "      <th>dti</th>\n",
       "      <th>delinq_2yrs</th>\n",
       "      <th>earliest_cr_line</th>\n",
       "      <th>inq_last_6mths</th>\n",
       "      <th>mths_since_last_delinq</th>\n",
       "      <th>mths_since_last_record</th>\n",
       "      <th>open_acc</th>\n",
       "      <th>pub_rec</th>\n",
       "      <th>revol_bal</th>\n",
       "      <th>revol_util</th>\n",
       "      <th>total_acc</th>\n",
       "      <th>initial_list_status</th>\n",
       "      <th>out_prncp</th>\n",
       "      <th>out_prncp_inv</th>\n",
       "      <th>total_pymnt</th>\n",
       "      <th>total_pymnt_inv</th>\n",
       "      <th>total_rec_prncp</th>\n",
       "      <th>total_rec_int</th>\n",
       "      <th>total_rec_late_fee</th>\n",
       "      <th>recoveries</th>\n",
       "      <th>collection_recovery_fee</th>\n",
       "      <th>last_pymnt_d</th>\n",
       "      <th>last_pymnt_amnt</th>\n",
       "      <th>next_pymnt_d</th>\n",
       "      <th>last_credit_pull_d</th>\n",
       "      <th>collections_12_mths_ex_med</th>\n",
       "      <th>mths_since_last_major_derog</th>\n",
       "      <th>policy_code</th>\n",
       "      <th>application_type</th>\n",
       "      <th>annual_inc_joint</th>\n",
       "      <th>dti_joint</th>\n",
       "      <th>verification_status_joint</th>\n",
       "      <th>acc_now_delinq</th>\n",
       "      <th>tot_coll_amt</th>\n",
       "      <th>tot_cur_bal</th>\n",
       "      <th>open_acc_6m</th>\n",
       "      <th>open_il_6m</th>\n",
       "      <th>open_il_12m</th>\n",
       "      <th>open_il_24m</th>\n",
       "      <th>mths_since_rcnt_il</th>\n",
       "      <th>total_bal_il</th>\n",
       "      <th>il_util</th>\n",
       "      <th>open_rv_12m</th>\n",
       "      <th>open_rv_24m</th>\n",
       "      <th>max_bal_bc</th>\n",
       "      <th>all_util</th>\n",
       "      <th>total_rev_hi_lim</th>\n",
       "      <th>inq_fi</th>\n",
       "      <th>total_cu_tl</th>\n",
       "      <th>inq_last_12m</th>\n",
       "    </tr>\n",
       "  </thead>\n",
       "  <tbody>\n",
       "    <tr>\n",
       "      <th>156400</th>\n",
       "      <td>3300985</td>\n",
       "      <td>4073828</td>\n",
       "      <td>14000</td>\n",
       "      <td>14000</td>\n",
       "      <td>14000.0</td>\n",
       "      <td>36 months</td>\n",
       "      <td>7.9</td>\n",
       "      <td>438.07</td>\n",
       "      <td>A</td>\n",
       "      <td>A4</td>\n",
       "      <td>EMC Corporation</td>\n",
       "      <td>4 years</td>\n",
       "      <td>MORTGAGE</td>\n",
       "      <td>176561.0</td>\n",
       "      <td>Verified</td>\n",
       "      <td>Mar-13</td>\n",
       "      <td>Current</td>\n",
       "      <td>n</td>\n",
       "      <td>https://www.lendingclub.com/browse/loanDetail....</td>\n",
       "      <td>Borrower added on 03/12/13 &gt; I would like to...</td>\n",
       "      <td>debt_consolidation</td>\n",
       "      <td>debt consolidation</td>\n",
       "      <td>170xx</td>\n",
       "      <td>PA</td>\n",
       "      <td>33.06</td>\n",
       "      <td>0.0</td>\n",
       "      <td>Nov-96</td>\n",
       "      <td>0.0</td>\n",
       "      <td>NaN</td>\n",
       "      <td>NaN</td>\n",
       "      <td>15.0</td>\n",
       "      <td>0.0</td>\n",
       "      <td>110607</td>\n",
       "      <td>98.8</td>\n",
       "      <td>29.0</td>\n",
       "      <td>f</td>\n",
       "      <td>872.33</td>\n",
       "      <td>872.33</td>\n",
       "      <td>14888.22</td>\n",
       "      <td>14888.22</td>\n",
       "      <td>13127.67</td>\n",
       "      <td>1760.55</td>\n",
       "      <td>0.0</td>\n",
       "      <td>0.0</td>\n",
       "      <td>0.0</td>\n",
       "      <td>Jan-16</td>\n",
       "      <td>438.07</td>\n",
       "      <td>Feb-16</td>\n",
       "      <td>Jan-16</td>\n",
       "      <td>0.0</td>\n",
       "      <td>NaN</td>\n",
       "      <td>1</td>\n",
       "      <td>INDIVIDUAL</td>\n",
       "      <td>NaN</td>\n",
       "      <td>NaN</td>\n",
       "      <td>NaN</td>\n",
       "      <td>0.0</td>\n",
       "      <td>0.0</td>\n",
       "      <td>480519.0</td>\n",
       "      <td>NaN</td>\n",
       "      <td>NaN</td>\n",
       "      <td>NaN</td>\n",
       "      <td>NaN</td>\n",
       "      <td>NaN</td>\n",
       "      <td>NaN</td>\n",
       "      <td>NaN</td>\n",
       "      <td>NaN</td>\n",
       "      <td>NaN</td>\n",
       "      <td>NaN</td>\n",
       "      <td>NaN</td>\n",
       "      <td>110500.0</td>\n",
       "      <td>NaN</td>\n",
       "      <td>NaN</td>\n",
       "      <td>NaN</td>\n",
       "    </tr>\n",
       "  </tbody>\n",
       "</table>\n",
       "</div>"
      ],
      "text/plain": [
       "             id  member_id  loan_amnt  funded_amnt  funded_amnt_inv  \\\n",
       "156400  3300985    4073828      14000        14000          14000.0   \n",
       "\n",
       "              term  int_rate  installment grade sub_grade        emp_title  \\\n",
       "156400   36 months       7.9       438.07     A        A4  EMC Corporation   \n",
       "\n",
       "       emp_length home_ownership  annual_inc verification_status issue_d  \\\n",
       "156400    4 years       MORTGAGE    176561.0            Verified  Mar-13   \n",
       "\n",
       "       loan_status pymnt_plan  \\\n",
       "156400     Current          n   \n",
       "\n",
       "                                                      url  \\\n",
       "156400  https://www.lendingclub.com/browse/loanDetail....   \n",
       "\n",
       "                                                     desc             purpose  \\\n",
       "156400    Borrower added on 03/12/13 > I would like to...  debt_consolidation   \n",
       "\n",
       "                     title zip_code addr_state    dti  delinq_2yrs  \\\n",
       "156400  debt consolidation    170xx         PA  33.06          0.0   \n",
       "\n",
       "       earliest_cr_line  inq_last_6mths  mths_since_last_delinq  \\\n",
       "156400           Nov-96             0.0                     NaN   \n",
       "\n",
       "        mths_since_last_record  open_acc  pub_rec  revol_bal  revol_util  \\\n",
       "156400                     NaN      15.0      0.0     110607        98.8   \n",
       "\n",
       "        total_acc initial_list_status  out_prncp  out_prncp_inv  total_pymnt  \\\n",
       "156400       29.0                   f     872.33         872.33     14888.22   \n",
       "\n",
       "        total_pymnt_inv  total_rec_prncp  total_rec_int  total_rec_late_fee  \\\n",
       "156400         14888.22         13127.67        1760.55                 0.0   \n",
       "\n",
       "        recoveries  collection_recovery_fee last_pymnt_d  last_pymnt_amnt  \\\n",
       "156400         0.0                      0.0       Jan-16           438.07   \n",
       "\n",
       "       next_pymnt_d last_credit_pull_d  collections_12_mths_ex_med  \\\n",
       "156400       Feb-16             Jan-16                         0.0   \n",
       "\n",
       "        mths_since_last_major_derog  policy_code application_type  \\\n",
       "156400                          NaN            1       INDIVIDUAL   \n",
       "\n",
       "        annual_inc_joint  dti_joint  verification_status_joint  \\\n",
       "156400               NaN        NaN                        NaN   \n",
       "\n",
       "        acc_now_delinq  tot_coll_amt  tot_cur_bal  open_acc_6m  open_il_6m  \\\n",
       "156400             0.0           0.0     480519.0          NaN         NaN   \n",
       "\n",
       "        open_il_12m  open_il_24m  mths_since_rcnt_il  total_bal_il  il_util  \\\n",
       "156400          NaN          NaN                 NaN           NaN      NaN   \n",
       "\n",
       "        open_rv_12m  open_rv_24m  max_bal_bc  all_util  total_rev_hi_lim  \\\n",
       "156400          NaN          NaN         NaN       NaN          110500.0   \n",
       "\n",
       "        inq_fi  total_cu_tl  inq_last_12m  \n",
       "156400     NaN          NaN           NaN  "
      ]
     },
     "execution_count": 5,
     "metadata": {},
     "output_type": "execute_result"
    }
   ],
   "source": [
    "data_raw.sample()"
   ]
  },
  {
   "cell_type": "code",
   "execution_count": 6,
   "id": "b72e82ae-d940-42c7-afd7-c0b1355aee20",
   "metadata": {},
   "outputs": [
    {
     "data": {
      "text/plain": [
       "466285"
      ]
     },
     "execution_count": 6,
     "metadata": {},
     "output_type": "execute_result"
    }
   ],
   "source": [
    "data_raw.id.nunique()"
   ]
  },
  {
   "cell_type": "code",
   "execution_count": 7,
   "id": "dc5c9660-f592-49a0-86ea-6117fcb1b177",
   "metadata": {},
   "outputs": [
    {
     "data": {
      "text/plain": [
       "466285"
      ]
     },
     "execution_count": 7,
     "metadata": {},
     "output_type": "execute_result"
    }
   ],
   "source": [
    "data_raw.member_id.nunique()"
   ]
  },
  {
   "cell_type": "markdown",
   "id": "2a432ed8-4223-4a72-a272-a3ec9e088dec",
   "metadata": {
    "jp-MarkdownHeadingCollapsed": true,
    "tags": []
   },
   "source": [
    "Terlihat bahwa tidak ada `id` atau `member_id` yang duplikat, artinya setiap baris sudah mewakili satu individu."
   ]
  },
  {
   "cell_type": "markdown",
   "id": "96d47ff1-4569-4a19-8236-51efda3c4e45",
   "metadata": {},
   "source": [
    "Selanjutnya, pembuangan fitur-fitur yang tidak berguna dilakukan. Contohnya seperti fitur yang merupakan id unik, berupa free text, nilainya kosong semua (NULL), dsb."
   ]
  },
  {
   "cell_type": "code",
   "execution_count": 8,
   "id": "9b836e49-0716-47c6-b5e8-657156bc41ed",
   "metadata": {},
   "outputs": [],
   "source": [
    "cols_to_drop = [\n",
    "    # unique id\n",
    "    'id'\n",
    "    , 'member_id'\n",
    "    \n",
    "    # free text\n",
    "    , 'url'\n",
    "    , 'desc'\n",
    "    \n",
    "    # all null / constant / others\n",
    "    , 'zip_code' \n",
    "    , 'annual_inc_joint'\n",
    "    , 'dti_joint'\n",
    "    , 'verification_status_joint'\n",
    "    , 'open_acc_6m'\n",
    "    , 'open_il_6m'\n",
    "    , 'open_il_12m'\n",
    "    , 'open_il_24m'\n",
    "    , 'mths_since_rcnt_il'\n",
    "    , 'total_bal_il'\n",
    "    , 'il_util'\n",
    "    , 'open_rv_12m'\n",
    "    , 'open_rv_24m'\n",
    "    , 'max_bal_bc'\n",
    "    , 'all_util'\n",
    "    , 'inq_fi'\n",
    "    , 'total_cu_tl'\n",
    "    , 'inq_last_12m'\n",
    "    \n",
    "    # expert judgment\n",
    "    , 'sub_grade'\n",
    "]"
   ]
  },
  {
   "cell_type": "code",
   "execution_count": 9,
   "id": "ad25b882-2dad-4f6a-a4b1-4d8560b18143",
   "metadata": {},
   "outputs": [],
   "source": [
    "data = data_raw.drop(cols_to_drop, axis=1)"
   ]
  },
  {
   "cell_type": "code",
   "execution_count": 10,
   "id": "816f0626-4128-4070-a773-89032db86642",
   "metadata": {},
   "outputs": [
    {
     "data": {
      "text/html": [
       "<div>\n",
       "<style scoped>\n",
       "    .dataframe tbody tr th:only-of-type {\n",
       "        vertical-align: middle;\n",
       "    }\n",
       "\n",
       "    .dataframe tbody tr th {\n",
       "        vertical-align: top;\n",
       "    }\n",
       "\n",
       "    .dataframe thead th {\n",
       "        text-align: right;\n",
       "    }\n",
       "</style>\n",
       "<table border=\"1\" class=\"dataframe\">\n",
       "  <thead>\n",
       "    <tr style=\"text-align: right;\">\n",
       "      <th></th>\n",
       "      <th>loan_amnt</th>\n",
       "      <th>funded_amnt</th>\n",
       "      <th>funded_amnt_inv</th>\n",
       "      <th>term</th>\n",
       "      <th>int_rate</th>\n",
       "      <th>installment</th>\n",
       "      <th>grade</th>\n",
       "      <th>emp_title</th>\n",
       "      <th>emp_length</th>\n",
       "      <th>home_ownership</th>\n",
       "      <th>annual_inc</th>\n",
       "      <th>verification_status</th>\n",
       "      <th>issue_d</th>\n",
       "      <th>loan_status</th>\n",
       "      <th>pymnt_plan</th>\n",
       "      <th>purpose</th>\n",
       "      <th>title</th>\n",
       "      <th>addr_state</th>\n",
       "      <th>dti</th>\n",
       "      <th>delinq_2yrs</th>\n",
       "      <th>earliest_cr_line</th>\n",
       "      <th>inq_last_6mths</th>\n",
       "      <th>mths_since_last_delinq</th>\n",
       "      <th>mths_since_last_record</th>\n",
       "      <th>open_acc</th>\n",
       "      <th>pub_rec</th>\n",
       "      <th>revol_bal</th>\n",
       "      <th>revol_util</th>\n",
       "      <th>total_acc</th>\n",
       "      <th>initial_list_status</th>\n",
       "      <th>out_prncp</th>\n",
       "      <th>out_prncp_inv</th>\n",
       "      <th>total_pymnt</th>\n",
       "      <th>total_pymnt_inv</th>\n",
       "      <th>total_rec_prncp</th>\n",
       "      <th>total_rec_int</th>\n",
       "      <th>total_rec_late_fee</th>\n",
       "      <th>recoveries</th>\n",
       "      <th>collection_recovery_fee</th>\n",
       "      <th>last_pymnt_d</th>\n",
       "      <th>last_pymnt_amnt</th>\n",
       "      <th>next_pymnt_d</th>\n",
       "      <th>last_credit_pull_d</th>\n",
       "      <th>collections_12_mths_ex_med</th>\n",
       "      <th>mths_since_last_major_derog</th>\n",
       "      <th>policy_code</th>\n",
       "      <th>application_type</th>\n",
       "      <th>acc_now_delinq</th>\n",
       "      <th>tot_coll_amt</th>\n",
       "      <th>tot_cur_bal</th>\n",
       "      <th>total_rev_hi_lim</th>\n",
       "    </tr>\n",
       "  </thead>\n",
       "  <tbody>\n",
       "    <tr>\n",
       "      <th>408964</th>\n",
       "      <td>35000</td>\n",
       "      <td>35000</td>\n",
       "      <td>34975.0</td>\n",
       "      <td>60 months</td>\n",
       "      <td>18.92</td>\n",
       "      <td>906.38</td>\n",
       "      <td>D</td>\n",
       "      <td>General Manager</td>\n",
       "      <td>10+ years</td>\n",
       "      <td>MORTGAGE</td>\n",
       "      <td>130000.0</td>\n",
       "      <td>Verified</td>\n",
       "      <td>Apr-14</td>\n",
       "      <td>Current</td>\n",
       "      <td>n</td>\n",
       "      <td>debt_consolidation</td>\n",
       "      <td>Debt consolidation</td>\n",
       "      <td>MI</td>\n",
       "      <td>29.82</td>\n",
       "      <td>0.0</td>\n",
       "      <td>Apr-99</td>\n",
       "      <td>3.0</td>\n",
       "      <td>NaN</td>\n",
       "      <td>NaN</td>\n",
       "      <td>25.0</td>\n",
       "      <td>0.0</td>\n",
       "      <td>46467</td>\n",
       "      <td>75.2</td>\n",
       "      <td>58.0</td>\n",
       "      <td>f</td>\n",
       "      <td>26254.61</td>\n",
       "      <td>26235.86</td>\n",
       "      <td>19033.98</td>\n",
       "      <td>19020.38</td>\n",
       "      <td>8745.39</td>\n",
       "      <td>10288.59</td>\n",
       "      <td>0.0</td>\n",
       "      <td>0.0</td>\n",
       "      <td>0.0</td>\n",
       "      <td>Jan-16</td>\n",
       "      <td>906.38</td>\n",
       "      <td>Feb-16</td>\n",
       "      <td>Jan-16</td>\n",
       "      <td>0.0</td>\n",
       "      <td>NaN</td>\n",
       "      <td>1</td>\n",
       "      <td>INDIVIDUAL</td>\n",
       "      <td>0.0</td>\n",
       "      <td>0.0</td>\n",
       "      <td>435813.0</td>\n",
       "      <td>61800.0</td>\n",
       "    </tr>\n",
       "    <tr>\n",
       "      <th>385430</th>\n",
       "      <td>6450</td>\n",
       "      <td>6450</td>\n",
       "      <td>6450.0</td>\n",
       "      <td>36 months</td>\n",
       "      <td>10.99</td>\n",
       "      <td>211.14</td>\n",
       "      <td>B</td>\n",
       "      <td>NaN</td>\n",
       "      <td>NaN</td>\n",
       "      <td>RENT</td>\n",
       "      <td>18000.0</td>\n",
       "      <td>Verified</td>\n",
       "      <td>May-14</td>\n",
       "      <td>Current</td>\n",
       "      <td>n</td>\n",
       "      <td>debt_consolidation</td>\n",
       "      <td>Debt consolidation</td>\n",
       "      <td>MN</td>\n",
       "      <td>12.87</td>\n",
       "      <td>0.0</td>\n",
       "      <td>Apr-91</td>\n",
       "      <td>0.0</td>\n",
       "      <td>NaN</td>\n",
       "      <td>NaN</td>\n",
       "      <td>6.0</td>\n",
       "      <td>0.0</td>\n",
       "      <td>10041</td>\n",
       "      <td>41.3</td>\n",
       "      <td>11.0</td>\n",
       "      <td>w</td>\n",
       "      <td>3128.89</td>\n",
       "      <td>3128.89</td>\n",
       "      <td>4207.64</td>\n",
       "      <td>4207.64</td>\n",
       "      <td>3321.11</td>\n",
       "      <td>886.53</td>\n",
       "      <td>0.0</td>\n",
       "      <td>0.0</td>\n",
       "      <td>0.0</td>\n",
       "      <td>Jan-16</td>\n",
       "      <td>195.98</td>\n",
       "      <td>Feb-16</td>\n",
       "      <td>Jan-16</td>\n",
       "      <td>0.0</td>\n",
       "      <td>NaN</td>\n",
       "      <td>1</td>\n",
       "      <td>INDIVIDUAL</td>\n",
       "      <td>0.0</td>\n",
       "      <td>0.0</td>\n",
       "      <td>10041.0</td>\n",
       "      <td>24300.0</td>\n",
       "    </tr>\n",
       "    <tr>\n",
       "      <th>120360</th>\n",
       "      <td>32175</td>\n",
       "      <td>32175</td>\n",
       "      <td>32125.0</td>\n",
       "      <td>60 months</td>\n",
       "      <td>21.15</td>\n",
       "      <td>873.16</td>\n",
       "      <td>E</td>\n",
       "      <td>Harold Johnson Optical Labs</td>\n",
       "      <td>10+ years</td>\n",
       "      <td>RENT</td>\n",
       "      <td>77000.0</td>\n",
       "      <td>Source Verified</td>\n",
       "      <td>Jul-13</td>\n",
       "      <td>Current</td>\n",
       "      <td>n</td>\n",
       "      <td>debt_consolidation</td>\n",
       "      <td>Debt Consolidation</td>\n",
       "      <td>CA</td>\n",
       "      <td>11.84</td>\n",
       "      <td>0.0</td>\n",
       "      <td>Aug-97</td>\n",
       "      <td>0.0</td>\n",
       "      <td>NaN</td>\n",
       "      <td>102.0</td>\n",
       "      <td>5.0</td>\n",
       "      <td>1.0</td>\n",
       "      <td>12528</td>\n",
       "      <td>89.5</td>\n",
       "      <td>7.0</td>\n",
       "      <td>f</td>\n",
       "      <td>20218.06</td>\n",
       "      <td>20186.61</td>\n",
       "      <td>26171.91</td>\n",
       "      <td>26131.32</td>\n",
       "      <td>11956.94</td>\n",
       "      <td>14214.97</td>\n",
       "      <td>0.0</td>\n",
       "      <td>0.0</td>\n",
       "      <td>0.0</td>\n",
       "      <td>Jan-16</td>\n",
       "      <td>873.16</td>\n",
       "      <td>Feb-16</td>\n",
       "      <td>Jan-16</td>\n",
       "      <td>0.0</td>\n",
       "      <td>NaN</td>\n",
       "      <td>1</td>\n",
       "      <td>INDIVIDUAL</td>\n",
       "      <td>0.0</td>\n",
       "      <td>0.0</td>\n",
       "      <td>25240.0</td>\n",
       "      <td>14000.0</td>\n",
       "    </tr>\n",
       "    <tr>\n",
       "      <th>92810</th>\n",
       "      <td>10000</td>\n",
       "      <td>10000</td>\n",
       "      <td>10000.0</td>\n",
       "      <td>36 months</td>\n",
       "      <td>12.35</td>\n",
       "      <td>333.82</td>\n",
       "      <td>B</td>\n",
       "      <td>Home Federal Bank</td>\n",
       "      <td>5 years</td>\n",
       "      <td>RENT</td>\n",
       "      <td>83000.0</td>\n",
       "      <td>Not Verified</td>\n",
       "      <td>Sep-13</td>\n",
       "      <td>Current</td>\n",
       "      <td>n</td>\n",
       "      <td>debt_consolidation</td>\n",
       "      <td>Debt consolidation</td>\n",
       "      <td>SD</td>\n",
       "      <td>27.22</td>\n",
       "      <td>0.0</td>\n",
       "      <td>May-91</td>\n",
       "      <td>1.0</td>\n",
       "      <td>NaN</td>\n",
       "      <td>NaN</td>\n",
       "      <td>10.0</td>\n",
       "      <td>0.0</td>\n",
       "      <td>18368</td>\n",
       "      <td>81.6</td>\n",
       "      <td>32.0</td>\n",
       "      <td>w</td>\n",
       "      <td>2550.90</td>\n",
       "      <td>2550.90</td>\n",
       "      <td>9346.96</td>\n",
       "      <td>9346.96</td>\n",
       "      <td>7449.10</td>\n",
       "      <td>1897.86</td>\n",
       "      <td>0.0</td>\n",
       "      <td>0.0</td>\n",
       "      <td>0.0</td>\n",
       "      <td>Jan-16</td>\n",
       "      <td>333.82</td>\n",
       "      <td>Feb-16</td>\n",
       "      <td>Jan-16</td>\n",
       "      <td>0.0</td>\n",
       "      <td>NaN</td>\n",
       "      <td>1</td>\n",
       "      <td>INDIVIDUAL</td>\n",
       "      <td>0.0</td>\n",
       "      <td>0.0</td>\n",
       "      <td>78139.0</td>\n",
       "      <td>22500.0</td>\n",
       "    </tr>\n",
       "    <tr>\n",
       "      <th>244137</th>\n",
       "      <td>27000</td>\n",
       "      <td>27000</td>\n",
       "      <td>27000.0</td>\n",
       "      <td>60 months</td>\n",
       "      <td>13.66</td>\n",
       "      <td>623.50</td>\n",
       "      <td>C</td>\n",
       "      <td>Production manager</td>\n",
       "      <td>6 years</td>\n",
       "      <td>RENT</td>\n",
       "      <td>92000.0</td>\n",
       "      <td>Verified</td>\n",
       "      <td>Dec-14</td>\n",
       "      <td>Fully Paid</td>\n",
       "      <td>n</td>\n",
       "      <td>debt_consolidation</td>\n",
       "      <td>Debt consolidation</td>\n",
       "      <td>NJ</td>\n",
       "      <td>21.65</td>\n",
       "      <td>0.0</td>\n",
       "      <td>Sep-97</td>\n",
       "      <td>0.0</td>\n",
       "      <td>NaN</td>\n",
       "      <td>25.0</td>\n",
       "      <td>12.0</td>\n",
       "      <td>1.0</td>\n",
       "      <td>9297</td>\n",
       "      <td>89.4</td>\n",
       "      <td>25.0</td>\n",
       "      <td>f</td>\n",
       "      <td>0.00</td>\n",
       "      <td>0.00</td>\n",
       "      <td>27687.69</td>\n",
       "      <td>27687.69</td>\n",
       "      <td>27000.00</td>\n",
       "      <td>687.69</td>\n",
       "      <td>0.0</td>\n",
       "      <td>0.0</td>\n",
       "      <td>0.0</td>\n",
       "      <td>Feb-15</td>\n",
       "      <td>27084.68</td>\n",
       "      <td>NaN</td>\n",
       "      <td>Jan-15</td>\n",
       "      <td>0.0</td>\n",
       "      <td>NaN</td>\n",
       "      <td>1</td>\n",
       "      <td>INDIVIDUAL</td>\n",
       "      <td>0.0</td>\n",
       "      <td>0.0</td>\n",
       "      <td>40001.0</td>\n",
       "      <td>10400.0</td>\n",
       "    </tr>\n",
       "  </tbody>\n",
       "</table>\n",
       "</div>"
      ],
      "text/plain": [
       "        loan_amnt  funded_amnt  funded_amnt_inv        term  int_rate  \\\n",
       "408964      35000        35000          34975.0   60 months     18.92   \n",
       "385430       6450         6450           6450.0   36 months     10.99   \n",
       "120360      32175        32175          32125.0   60 months     21.15   \n",
       "92810       10000        10000          10000.0   36 months     12.35   \n",
       "244137      27000        27000          27000.0   60 months     13.66   \n",
       "\n",
       "        installment grade                    emp_title emp_length  \\\n",
       "408964       906.38     D              General Manager  10+ years   \n",
       "385430       211.14     B                          NaN        NaN   \n",
       "120360       873.16     E  Harold Johnson Optical Labs  10+ years   \n",
       "92810        333.82     B            Home Federal Bank    5 years   \n",
       "244137       623.50     C           Production manager    6 years   \n",
       "\n",
       "       home_ownership  annual_inc verification_status issue_d loan_status  \\\n",
       "408964       MORTGAGE    130000.0            Verified  Apr-14     Current   \n",
       "385430           RENT     18000.0            Verified  May-14     Current   \n",
       "120360           RENT     77000.0     Source Verified  Jul-13     Current   \n",
       "92810            RENT     83000.0        Not Verified  Sep-13     Current   \n",
       "244137           RENT     92000.0            Verified  Dec-14  Fully Paid   \n",
       "\n",
       "       pymnt_plan             purpose               title addr_state    dti  \\\n",
       "408964          n  debt_consolidation  Debt consolidation         MI  29.82   \n",
       "385430          n  debt_consolidation  Debt consolidation         MN  12.87   \n",
       "120360          n  debt_consolidation  Debt Consolidation         CA  11.84   \n",
       "92810           n  debt_consolidation  Debt consolidation         SD  27.22   \n",
       "244137          n  debt_consolidation  Debt consolidation         NJ  21.65   \n",
       "\n",
       "        delinq_2yrs earliest_cr_line  inq_last_6mths  mths_since_last_delinq  \\\n",
       "408964          0.0           Apr-99             3.0                     NaN   \n",
       "385430          0.0           Apr-91             0.0                     NaN   \n",
       "120360          0.0           Aug-97             0.0                     NaN   \n",
       "92810           0.0           May-91             1.0                     NaN   \n",
       "244137          0.0           Sep-97             0.0                     NaN   \n",
       "\n",
       "        mths_since_last_record  open_acc  pub_rec  revol_bal  revol_util  \\\n",
       "408964                     NaN      25.0      0.0      46467        75.2   \n",
       "385430                     NaN       6.0      0.0      10041        41.3   \n",
       "120360                   102.0       5.0      1.0      12528        89.5   \n",
       "92810                      NaN      10.0      0.0      18368        81.6   \n",
       "244137                    25.0      12.0      1.0       9297        89.4   \n",
       "\n",
       "        total_acc initial_list_status  out_prncp  out_prncp_inv  total_pymnt  \\\n",
       "408964       58.0                   f   26254.61       26235.86     19033.98   \n",
       "385430       11.0                   w    3128.89        3128.89      4207.64   \n",
       "120360        7.0                   f   20218.06       20186.61     26171.91   \n",
       "92810        32.0                   w    2550.90        2550.90      9346.96   \n",
       "244137       25.0                   f       0.00           0.00     27687.69   \n",
       "\n",
       "        total_pymnt_inv  total_rec_prncp  total_rec_int  total_rec_late_fee  \\\n",
       "408964         19020.38          8745.39       10288.59                 0.0   \n",
       "385430          4207.64          3321.11         886.53                 0.0   \n",
       "120360         26131.32         11956.94       14214.97                 0.0   \n",
       "92810           9346.96          7449.10        1897.86                 0.0   \n",
       "244137         27687.69         27000.00         687.69                 0.0   \n",
       "\n",
       "        recoveries  collection_recovery_fee last_pymnt_d  last_pymnt_amnt  \\\n",
       "408964         0.0                      0.0       Jan-16           906.38   \n",
       "385430         0.0                      0.0       Jan-16           195.98   \n",
       "120360         0.0                      0.0       Jan-16           873.16   \n",
       "92810          0.0                      0.0       Jan-16           333.82   \n",
       "244137         0.0                      0.0       Feb-15         27084.68   \n",
       "\n",
       "       next_pymnt_d last_credit_pull_d  collections_12_mths_ex_med  \\\n",
       "408964       Feb-16             Jan-16                         0.0   \n",
       "385430       Feb-16             Jan-16                         0.0   \n",
       "120360       Feb-16             Jan-16                         0.0   \n",
       "92810        Feb-16             Jan-16                         0.0   \n",
       "244137          NaN             Jan-15                         0.0   \n",
       "\n",
       "        mths_since_last_major_derog  policy_code application_type  \\\n",
       "408964                          NaN            1       INDIVIDUAL   \n",
       "385430                          NaN            1       INDIVIDUAL   \n",
       "120360                          NaN            1       INDIVIDUAL   \n",
       "92810                           NaN            1       INDIVIDUAL   \n",
       "244137                          NaN            1       INDIVIDUAL   \n",
       "\n",
       "        acc_now_delinq  tot_coll_amt  tot_cur_bal  total_rev_hi_lim  \n",
       "408964             0.0           0.0     435813.0           61800.0  \n",
       "385430             0.0           0.0      10041.0           24300.0  \n",
       "120360             0.0           0.0      25240.0           14000.0  \n",
       "92810              0.0           0.0      78139.0           22500.0  \n",
       "244137             0.0           0.0      40001.0           10400.0  "
      ]
     },
     "execution_count": 10,
     "metadata": {},
     "output_type": "execute_result"
    }
   ],
   "source": [
    "data.sample(5)"
   ]
  },
  {
   "cell_type": "markdown",
   "id": "da3e1988-70da-4958-85ec-c8866cebd7fd",
   "metadata": {
    "tags": []
   },
   "source": [
    "# DEFINE TARGET VARIABLE / LABELING"
   ]
  },
  {
   "cell_type": "markdown",
   "id": "44602917-ef8a-46c6-9331-9272c123e0e5",
   "metadata": {},
   "source": [
    "Dalam project credit risk modeling, tujuan utama adalah untuk melakukan prediksi terhadap suatu individu akan kemampuan mereka untuk melakukan pembayaran terhadap pinjaman/kredit yang diberikan. Oleh karena itu, variabel target yang digunakan harus mencerminkan kemampuan individu dalam hal tersebut. "
   ]
  },
  {
   "cell_type": "markdown",
   "id": "5e4fcac9-6eb4-4890-9eb5-538f21f0983c",
   "metadata": {},
   "source": [
    "Dalam dataset ini, variabel `loan_status` adalah variabel yang dapat dijadikan variabel target karena mencerminkan performa masing-masing individu dalam melakukan pembayaran terhadap pinjaman/kredit selama ini."
   ]
  },
  {
   "cell_type": "code",
   "execution_count": 11,
   "id": "44f62c30-218b-421a-a0ae-435b0a10fad1",
   "metadata": {},
   "outputs": [
    {
     "data": {
      "text/plain": [
       "Current                                                48.087757\n",
       "Fully Paid                                             39.619332\n",
       "Charged Off                                             9.109236\n",
       "Late (31-120 days)                                      1.479782\n",
       "In Grace Period                                         0.674695\n",
       "Does not meet the credit policy. Status:Fully Paid      0.426349\n",
       "Late (16-30 days)                                       0.261214\n",
       "Default                                                 0.178432\n",
       "Does not meet the credit policy. Status:Charged Off     0.163205\n",
       "Name: loan_status, dtype: float64"
      ]
     },
     "execution_count": 11,
     "metadata": {},
     "output_type": "execute_result"
    }
   ],
   "source": [
    "data.loan_status.value_counts(normalize=True)*100"
   ]
  },
  {
   "cell_type": "markdown",
   "id": "a2eae777-8b21-41be-b3e6-6f94e7da71b1",
   "metadata": {},
   "source": [
    "Dapat dilihat bahwa variabel `loan_status` memiliki beberapa nilai:"
   ]
  },
  {
   "cell_type": "markdown",
   "id": "aa95e9b6-184e-4f39-876a-0b10d02572e7",
   "metadata": {},
   "source": [
    "`Current` artinya pembayaran lancar; `Charged Off` artinya pembayaran macet sehingga dihapusbukukan; `Late` artinya pembayaran telat dilakukan; `In Grace Period` artinya dalam masa tenggang; `Fully Paid` artinya pembayaran lunas; `Default` artinya pembayaran macet"
   ]
  },
  {
   "cell_type": "markdown",
   "id": "cef1c933-a27a-4f31-b8f5-6396b4230a71",
   "metadata": {},
   "source": [
    "Dari definisi-definisi tersebut, masing-masing individu dapat ditandai apakah mereka merupakan `bad loan` (peminjam yang buruk) atau `good loan` (peminjam yang baik)"
   ]
  },
  {
   "cell_type": "markdown",
   "id": "ae1c5e10-21cc-46f5-9afe-9eb15e1cb08e",
   "metadata": {},
   "source": [
    "Definisi bad dan good loan terkadang bisa berbeda tergantung dari kebutuhan bisnis. Pada contoh ini, saya menggunakan keterlambatan pembayaran di atas 30 hari dan yang lebih buruk dari itu sebagai penanda bad loan."
   ]
  },
  {
   "cell_type": "code",
   "execution_count": 12,
   "id": "40095b4b-0181-432d-af07-fc25e5c6b8fe",
   "metadata": {},
   "outputs": [],
   "source": [
    "bad_status = [\n",
    "    'Charged Off' \n",
    "    , 'Default' \n",
    "    , 'Does not meet the credit policy. Status:Charged Off'\n",
    "    , 'Late (31-120 days)'\n",
    "]\n",
    "\n",
    "data['bad_flag'] = np.where(data['loan_status'].isin(bad_status), 1, 0)"
   ]
  },
  {
   "cell_type": "code",
   "execution_count": 13,
   "id": "d2e90734-c995-4dca-af6c-7db90b3beb79",
   "metadata": {},
   "outputs": [
    {
     "data": {
      "text/plain": [
       "0    89.069346\n",
       "1    10.930654\n",
       "Name: bad_flag, dtype: float64"
      ]
     },
     "execution_count": 13,
     "metadata": {},
     "output_type": "execute_result"
    }
   ],
   "source": [
    "data['bad_flag'].value_counts(normalize=True)*100"
   ]
  },
  {
   "cell_type": "markdown",
   "id": "934107d7-9757-42d4-9333-c234430c0648",
   "metadata": {},
   "source": [
    "Setelah melakukan flagging terhadap bad/good loan, dapat dilihat bahwa jumlah individu yang ditandai sebagai bad loan jauh lebih sedikit daripada good loan. Hal ini menyebabkan problem ini menjadi problem imbalanced dataset."
   ]
  },
  {
   "cell_type": "markdown",
   "id": "175024c9-9686-4a2f-8c9c-f4b2f74edb29",
   "metadata": {},
   "source": [
    "Jangan lupa untuk membuang kolom asal `loan_status` "
   ]
  },
  {
   "cell_type": "code",
   "execution_count": 14,
   "id": "64ca6b3f-d165-4e53-9368-b890335c0f04",
   "metadata": {},
   "outputs": [],
   "source": [
    "data.drop('loan_status', axis=1, inplace=True)"
   ]
  },
  {
   "cell_type": "markdown",
   "id": "55a4d30b-deea-4d22-b082-9e47fff922d5",
   "metadata": {
    "tags": []
   },
   "source": [
    "# CLEANING, PREPROCESSING, FEATURE ENGINEERING"
   ]
  },
  {
   "cell_type": "markdown",
   "id": "36ea8436-a032-4c92-b267-d6c600b8f51a",
   "metadata": {},
   "source": [
    "Pada step ini, dilakukan pembersihan/modifikasi beberapa fitur ke dalam format yang dapat digunakan untuk modeling."
   ]
  },
  {
   "cell_type": "markdown",
   "id": "07f366c4-907d-4ab9-84bb-49ba304baae7",
   "metadata": {},
   "source": [
    "### emp_length"
   ]
  },
  {
   "cell_type": "markdown",
   "id": "8b0089ae-9856-4295-8f13-259ffa53541e",
   "metadata": {},
   "source": [
    "Memodifikasi `emp_length`. Contoh: 4 years -> 4"
   ]
  },
  {
   "cell_type": "code",
   "execution_count": 15,
   "id": "f3a36a04-a5dc-4e16-8930-176c03442155",
   "metadata": {},
   "outputs": [
    {
     "data": {
      "text/plain": [
       "array(['10+ years', '< 1 year', '1 year', '3 years', '8 years', '9 years',\n",
       "       '4 years', '5 years', '6 years', '2 years', '7 years', nan],\n",
       "      dtype=object)"
      ]
     },
     "execution_count": 15,
     "metadata": {},
     "output_type": "execute_result"
    }
   ],
   "source": [
    "data['emp_length'].unique()"
   ]
  },
  {
   "cell_type": "code",
   "execution_count": 16,
   "id": "e39a05a9-b651-413a-8e12-9890f68923b5",
   "metadata": {},
   "outputs": [
    {
     "name": "stderr",
     "output_type": "stream",
     "text": [
      "/var/folders/nc/g0v_l5zn20350xf1lpqwtklh0000gn/T/ipykernel_14881/1742887160.py:1: FutureWarning: The default value of regex will change from True to False in a future version.\n",
      "  data['emp_length_int'] = data['emp_length'].str.replace('\\+ years', '')\n"
     ]
    }
   ],
   "source": [
    "data['emp_length_int'] = data['emp_length'].str.replace('\\+ years', '')\n",
    "data['emp_length_int'] = data['emp_length_int'].str.replace('< 1 year', str(0))\n",
    "data['emp_length_int'] = data['emp_length_int'].str.replace(' years', '')\n",
    "data['emp_length_int'] = data['emp_length_int'].str.replace(' year', '')"
   ]
  },
  {
   "cell_type": "code",
   "execution_count": 17,
   "id": "da25ef25-1c61-45a4-bd2d-0b7b44ac19cd",
   "metadata": {},
   "outputs": [],
   "source": [
    "data['emp_length_int'] = data['emp_length_int'].astype(float)"
   ]
  },
  {
   "cell_type": "code",
   "execution_count": 18,
   "id": "882c194d-9e31-4b64-b333-c653466db304",
   "metadata": {},
   "outputs": [],
   "source": [
    "data.drop('emp_length', axis=1, inplace=True)"
   ]
  },
  {
   "cell_type": "markdown",
   "id": "752b77e6-0b41-4126-bf8f-48267cbadce7",
   "metadata": {},
   "source": [
    "### term"
   ]
  },
  {
   "cell_type": "markdown",
   "id": "d5887e83-7874-4f46-978e-c760f872da6e",
   "metadata": {},
   "source": [
    "Memodifikasi `term`. Contoh: 36 months -> 36"
   ]
  },
  {
   "cell_type": "code",
   "execution_count": 19,
   "id": "a2fe1bd1-ee4e-4d24-a7da-48915f7994ac",
   "metadata": {},
   "outputs": [
    {
     "data": {
      "text/plain": [
       "array([' 36 months', ' 60 months'], dtype=object)"
      ]
     },
     "execution_count": 19,
     "metadata": {},
     "output_type": "execute_result"
    }
   ],
   "source": [
    "data['term'].unique()"
   ]
  },
  {
   "cell_type": "code",
   "execution_count": 20,
   "id": "fcb118cf-b5e6-4e4d-a599-2cbd467c93f9",
   "metadata": {},
   "outputs": [],
   "source": [
    "data['term_int'] = data['term'].str.replace(' months', '')\n",
    "data['term_int'] = data['term_int'].astype(float)"
   ]
  },
  {
   "cell_type": "code",
   "execution_count": 21,
   "id": "612fb81d-be67-498c-9b66-ec318aa91147",
   "metadata": {},
   "outputs": [],
   "source": [
    "data.drop('term', axis=1, inplace=True)"
   ]
  },
  {
   "cell_type": "markdown",
   "id": "29f06348-36b5-4dcb-8bf0-ba9ce8fe5926",
   "metadata": {},
   "source": [
    "### earliest_cr_line"
   ]
  },
  {
   "cell_type": "markdown",
   "id": "ee00acc9-5100-45d8-bd2e-f60897611c81",
   "metadata": {},
   "source": [
    "Memodifikasi `earliest_cr_line` dari format bulan-tahun menjadi perhitungan berapa lama waktu berlalu sejak waktu tersebut. Untuk melakukan hal ini, umumnya digunakan reference date = hari ini. Namun, karena dataset ini merupakan dataset tahun 2007-2014, maka akan lebih relevan jika menggunakan reference date di sekitar tahun 2017. Dalam contoh ini, saya menggunakan tanggal 2017-12-01 sebagai reference date."
   ]
  },
  {
   "cell_type": "code",
   "execution_count": 22,
   "id": "61a11bc8-67bc-4049-85e2-49d14e0a7595",
   "metadata": {},
   "outputs": [
    {
     "data": {
      "text/plain": [
       "0    Jan-85\n",
       "1    Apr-99\n",
       "2    Nov-01\n",
       "Name: earliest_cr_line, dtype: object"
      ]
     },
     "execution_count": 22,
     "metadata": {},
     "output_type": "execute_result"
    }
   ],
   "source": [
    "data['earliest_cr_line'].head(3)"
   ]
  },
  {
   "cell_type": "code",
   "execution_count": 23,
   "id": "ef6a827e-9b23-4c6d-b6ea-35f18466278f",
   "metadata": {},
   "outputs": [
    {
     "data": {
      "text/plain": [
       "0   1985-01-01\n",
       "1   1999-04-01\n",
       "2   2001-11-01\n",
       "Name: earliest_cr_line_date, dtype: datetime64[ns]"
      ]
     },
     "execution_count": 23,
     "metadata": {},
     "output_type": "execute_result"
    }
   ],
   "source": [
    "data['earliest_cr_line_date'] = pd.to_datetime(data['earliest_cr_line'], format='%b-%y')\n",
    "data['earliest_cr_line_date'].head(3)"
   ]
  },
  {
   "cell_type": "code",
   "execution_count": 24,
   "id": "927e5fa7-f538-42c4-a41d-2d1e675e34a0",
   "metadata": {},
   "outputs": [
    {
     "data": {
      "text/plain": [
       "0    395.0\n",
       "1    224.0\n",
       "2    193.0\n",
       "Name: mths_since_earliest_cr_line, dtype: float64"
      ]
     },
     "execution_count": 24,
     "metadata": {},
     "output_type": "execute_result"
    }
   ],
   "source": [
    "data['mths_since_earliest_cr_line'] = round(pd.to_numeric((pd.to_datetime('2017-12-01') - data['earliest_cr_line_date']) / np.timedelta64(1, 'M')))\n",
    "data['mths_since_earliest_cr_line'].head(3)"
   ]
  },
  {
   "cell_type": "code",
   "execution_count": 25,
   "id": "734bde13-2bf2-4672-907a-4e684c2f3701",
   "metadata": {},
   "outputs": [
    {
     "data": {
      "text/plain": [
       "count    466256.000000\n",
       "mean        239.482430\n",
       "std          93.974829\n",
       "min        -612.000000\n",
       "25%         183.000000\n",
       "50%         225.000000\n",
       "75%         285.000000\n",
       "max         587.000000\n",
       "Name: mths_since_earliest_cr_line, dtype: float64"
      ]
     },
     "execution_count": 25,
     "metadata": {},
     "output_type": "execute_result"
    }
   ],
   "source": [
    "data['mths_since_earliest_cr_line'].describe()"
   ]
  },
  {
   "cell_type": "markdown",
   "id": "17cc3cf6-d3f3-4673-97cb-53394a43ec3b",
   "metadata": {},
   "source": [
    "Terlihat ada nilai yang aneh, yaitu negatif."
   ]
  },
  {
   "cell_type": "code",
   "execution_count": 26,
   "id": "d84de89b-00ab-40d5-8690-a78d9ef0c98d",
   "metadata": {},
   "outputs": [
    {
     "data": {
      "text/html": [
       "<div>\n",
       "<style scoped>\n",
       "    .dataframe tbody tr th:only-of-type {\n",
       "        vertical-align: middle;\n",
       "    }\n",
       "\n",
       "    .dataframe tbody tr th {\n",
       "        vertical-align: top;\n",
       "    }\n",
       "\n",
       "    .dataframe thead th {\n",
       "        text-align: right;\n",
       "    }\n",
       "</style>\n",
       "<table border=\"1\" class=\"dataframe\">\n",
       "  <thead>\n",
       "    <tr style=\"text-align: right;\">\n",
       "      <th></th>\n",
       "      <th>earliest_cr_line</th>\n",
       "      <th>earliest_cr_line_date</th>\n",
       "      <th>mths_since_earliest_cr_line</th>\n",
       "    </tr>\n",
       "  </thead>\n",
       "  <tbody>\n",
       "    <tr>\n",
       "      <th>1580</th>\n",
       "      <td>Sep-62</td>\n",
       "      <td>2062-09-01</td>\n",
       "      <td>-537.0</td>\n",
       "    </tr>\n",
       "    <tr>\n",
       "      <th>1770</th>\n",
       "      <td>Sep-68</td>\n",
       "      <td>2068-09-01</td>\n",
       "      <td>-609.0</td>\n",
       "    </tr>\n",
       "    <tr>\n",
       "      <th>2799</th>\n",
       "      <td>Sep-64</td>\n",
       "      <td>2064-09-01</td>\n",
       "      <td>-561.0</td>\n",
       "    </tr>\n",
       "  </tbody>\n",
       "</table>\n",
       "</div>"
      ],
      "text/plain": [
       "     earliest_cr_line earliest_cr_line_date  mths_since_earliest_cr_line\n",
       "1580           Sep-62            2062-09-01                       -537.0\n",
       "1770           Sep-68            2068-09-01                       -609.0\n",
       "2799           Sep-64            2064-09-01                       -561.0"
      ]
     },
     "execution_count": 26,
     "metadata": {},
     "output_type": "execute_result"
    }
   ],
   "source": [
    "data[data['mths_since_earliest_cr_line']<0][['earliest_cr_line', 'earliest_cr_line_date', 'mths_since_earliest_cr_line']].head(3)"
   ]
  },
  {
   "cell_type": "markdown",
   "id": "6a0374c3-77fa-46e3-8075-5ff6cedb7de7",
   "metadata": {},
   "source": [
    "Ternyata nilai negatif muncul karena fungsi Python salah menginterpretasikan tahun 62 menjadi tahun 2062, padahal seharusnya merupakan tahun 1962."
   ]
  },
  {
   "cell_type": "markdown",
   "id": "3d909118-1988-4bfc-8795-f6a44809b3c7",
   "metadata": {},
   "source": [
    "Untuk mengatasi hal ini, dapat dilakukan preprocessing lebih jauh jika ingin membenarkan tahun 2062 menjadi 1962. Namun, kali ini saya hanya mengubah nilai yang negatif menjadi nilai maximum dari fitur tersebut. Karena di sini saya mengetahui bahwa nilai-nilai yang negatif artinya adalah data yang sudah tua (tahun 1900an), maka masih masuk akal jika saya mengganti nilai-nilai tersebut menjadi nilai terbesar."
   ]
  },
  {
   "cell_type": "code",
   "execution_count": 27,
   "id": "3eece212-c803-4298-91db-f8f645ca5e22",
   "metadata": {},
   "outputs": [],
   "source": [
    "data.loc[data['mths_since_earliest_cr_line']<0, 'mths_since_earliest_cr_line'] = data['mths_since_earliest_cr_line'].max()"
   ]
  },
  {
   "cell_type": "code",
   "execution_count": 28,
   "id": "c834fa5d-7f28-4a3e-afa7-11bd919973c3",
   "metadata": {},
   "outputs": [],
   "source": [
    "data.drop(['earliest_cr_line', 'earliest_cr_line_date'], axis=1, inplace=True)"
   ]
  },
  {
   "cell_type": "markdown",
   "id": "f37a5e3b-480f-4c63-8e95-bb4852654c6c",
   "metadata": {
    "tags": []
   },
   "source": [
    "### issue_d"
   ]
  },
  {
   "cell_type": "markdown",
   "id": "715e5c98-bf11-46e8-902f-601d8e2eee3f",
   "metadata": {},
   "source": [
    "Konsep preprocessing yang dilakukan sama dengan yang dilakukan terhadap variabel `earliest_cr_line`"
   ]
  },
  {
   "cell_type": "code",
   "execution_count": 29,
   "id": "aa592e64-24ea-475e-b7ff-df599dc07943",
   "metadata": {},
   "outputs": [],
   "source": [
    "data['issue_d_date'] = pd.to_datetime(data['issue_d'], format='%b-%y')\n",
    "data['mths_since_issue_d'] = round(pd.to_numeric((pd.to_datetime('2017-12-01') - data['issue_d_date']) / np.timedelta64(1, 'M')))"
   ]
  },
  {
   "cell_type": "code",
   "execution_count": 30,
   "id": "c39bc522-0586-4952-9de8-d60d4b5a605d",
   "metadata": {},
   "outputs": [
    {
     "data": {
      "text/plain": [
       "count    466285.000000\n",
       "mean         51.255187\n",
       "std          14.340154\n",
       "min          36.000000\n",
       "25%          41.000000\n",
       "50%          47.000000\n",
       "75%          57.000000\n",
       "max         126.000000\n",
       "Name: mths_since_issue_d, dtype: float64"
      ]
     },
     "execution_count": 30,
     "metadata": {},
     "output_type": "execute_result"
    }
   ],
   "source": [
    "data['mths_since_issue_d'].describe()"
   ]
  },
  {
   "cell_type": "code",
   "execution_count": 31,
   "id": "2ac3f14a-0234-40e4-a069-86ce36cf6c48",
   "metadata": {},
   "outputs": [],
   "source": [
    "data.drop(['issue_d', 'issue_d_date'], axis=1, inplace=True)"
   ]
  },
  {
   "cell_type": "markdown",
   "id": "20cb8392-d204-4b9c-a7b2-ca6e69ce3b7e",
   "metadata": {
    "tags": []
   },
   "source": [
    "### last_pymnt_d"
   ]
  },
  {
   "cell_type": "markdown",
   "id": "f7cdd097-6263-45da-8bf6-dc3d2a15c2c3",
   "metadata": {},
   "source": [
    "Konsep preprocessing yang dilakukan sama dengan yang dilakukan terhadap variabel `earliest_cr_line`"
   ]
  },
  {
   "cell_type": "code",
   "execution_count": 32,
   "id": "ee5adad6-8ab8-43df-8a34-21b21effe274",
   "metadata": {},
   "outputs": [],
   "source": [
    "data['last_pymnt_d_date'] = pd.to_datetime(data['last_pymnt_d'], format='%b-%y')\n",
    "data['mths_since_last_pymnt_d'] = round(pd.to_numeric((pd.to_datetime('2017-12-01') - data['last_pymnt_d_date']) / np.timedelta64(1, 'M')))"
   ]
  },
  {
   "cell_type": "code",
   "execution_count": 33,
   "id": "6ef28e75-4263-48bc-a2f2-56d05236afd4",
   "metadata": {},
   "outputs": [
    {
     "data": {
      "text/plain": [
       "count    465909.000000\n",
       "mean         31.294369\n",
       "std          12.809898\n",
       "min          23.000000\n",
       "25%          23.000000\n",
       "50%          24.000000\n",
       "75%          35.000000\n",
       "max         120.000000\n",
       "Name: mths_since_last_pymnt_d, dtype: float64"
      ]
     },
     "execution_count": 33,
     "metadata": {},
     "output_type": "execute_result"
    }
   ],
   "source": [
    "data['mths_since_last_pymnt_d'].describe()"
   ]
  },
  {
   "cell_type": "code",
   "execution_count": 34,
   "id": "0a6c53d6-0659-4e2b-b643-6ae7531f87e6",
   "metadata": {},
   "outputs": [],
   "source": [
    "data.drop(['last_pymnt_d', 'last_pymnt_d_date'], axis=1, inplace=True)"
   ]
  },
  {
   "cell_type": "markdown",
   "id": "f79cfb76-cf00-4c9a-9516-f27f6a2886bf",
   "metadata": {
    "tags": []
   },
   "source": [
    "### next_pymnt_d"
   ]
  },
  {
   "cell_type": "markdown",
   "id": "b9590ea1-c59c-4c9e-a7b6-842cd7746bbe",
   "metadata": {},
   "source": [
    "Konsep preprocessing yang dilakukan sama dengan yang dilakukan terhadap variabel `earliest_cr_line`"
   ]
  },
  {
   "cell_type": "code",
   "execution_count": 35,
   "id": "e6cf8d29-edc9-42af-b837-6fa1d4eb5519",
   "metadata": {},
   "outputs": [],
   "source": [
    "data['next_pymnt_d_date'] = pd.to_datetime(data['next_pymnt_d'], format='%b-%y')\n",
    "data['mths_since_next_pymnt_d'] = round(pd.to_numeric((pd.to_datetime('2017-12-01') - data['next_pymnt_d_date']) / np.timedelta64(1, 'M')))"
   ]
  },
  {
   "cell_type": "code",
   "execution_count": 36,
   "id": "78b1654d-25b1-4d84-9fbb-4ba6ee77f9e9",
   "metadata": {},
   "outputs": [
    {
     "data": {
      "text/plain": [
       "count    239071.000000\n",
       "mean         22.738136\n",
       "std           6.082298\n",
       "min          21.000000\n",
       "25%          22.000000\n",
       "50%          22.000000\n",
       "75%          22.000000\n",
       "max         120.000000\n",
       "Name: mths_since_next_pymnt_d, dtype: float64"
      ]
     },
     "execution_count": 36,
     "metadata": {},
     "output_type": "execute_result"
    }
   ],
   "source": [
    "data['mths_since_next_pymnt_d'].describe()"
   ]
  },
  {
   "cell_type": "code",
   "execution_count": 37,
   "id": "43b09dc7-2c7f-499d-8c9c-499252754bd4",
   "metadata": {},
   "outputs": [],
   "source": [
    "data.drop(['next_pymnt_d', 'next_pymnt_d_date'], axis=1, inplace=True)"
   ]
  },
  {
   "cell_type": "markdown",
   "id": "a1af0a43-71e2-4b08-9ad3-7f8cf394b1d0",
   "metadata": {
    "tags": []
   },
   "source": [
    "### last_credit_pull_d"
   ]
  },
  {
   "cell_type": "markdown",
   "id": "b20d2cb6-570a-4055-9c0d-5c8313f3289b",
   "metadata": {},
   "source": [
    "Konsep preprocessing yang dilakukan sama dengan yang dilakukan terhadap variabel `earliest_cr_line`"
   ]
  },
  {
   "cell_type": "code",
   "execution_count": 38,
   "id": "19581450-4d1a-4ca6-9c5b-08cd3b730b84",
   "metadata": {},
   "outputs": [],
   "source": [
    "data['last_credit_pull_d_date'] = pd.to_datetime(data['last_credit_pull_d'], format='%b-%y')\n",
    "data['mths_since_last_credit_pull_d'] = round(pd.to_numeric((pd.to_datetime('2017-12-01') - data['last_credit_pull_d_date']) / np.timedelta64(1, 'M')))"
   ]
  },
  {
   "cell_type": "code",
   "execution_count": 39,
   "id": "cb959846-54bf-4ec3-8160-b6b35b6bc093",
   "metadata": {},
   "outputs": [
    {
     "data": {
      "text/plain": [
       "count    466243.000000\n",
       "mean         27.045588\n",
       "std           9.636423\n",
       "min          23.000000\n",
       "25%          23.000000\n",
       "50%          23.000000\n",
       "75%          25.000000\n",
       "max         127.000000\n",
       "Name: mths_since_last_credit_pull_d, dtype: float64"
      ]
     },
     "execution_count": 39,
     "metadata": {},
     "output_type": "execute_result"
    }
   ],
   "source": [
    "data['mths_since_last_credit_pull_d'].describe()"
   ]
  },
  {
   "cell_type": "code",
   "execution_count": 40,
   "id": "58a28346-0b6d-4b5f-acc6-3f8bf8ca3395",
   "metadata": {},
   "outputs": [],
   "source": [
    "data.drop(['last_credit_pull_d', 'last_credit_pull_d_date'], axis=1, inplace=True)"
   ]
  },
  {
   "cell_type": "markdown",
   "id": "202362f6-3d5f-4e72-a795-b3d145416277",
   "metadata": {
    "tags": []
   },
   "source": [
    "# EXPLORATORY DATA ANALYSIS"
   ]
  },
  {
   "cell_type": "markdown",
   "id": "f35f6fc5-19b4-47b5-83c6-410a296a3561",
   "metadata": {},
   "source": [
    "### Correlation Check"
   ]
  },
  {
   "cell_type": "code",
   "execution_count": 41,
   "id": "d13dd53d-fdbf-4a55-b2c3-9c175e027a32",
   "metadata": {},
   "outputs": [
    {
     "data": {
      "text/plain": [
       "<AxesSubplot:>"
      ]
     },
     "execution_count": 41,
     "metadata": {},
     "output_type": "execute_result"
    },
    {
     "data": {
      "image/png": "[encoded data removed]",
      "text/plain": [
       "<Figure size 1440x1440 with 2 Axes>"
      ]
     },
     "metadata": {},
     "output_type": "display_data"
    }
   ],
   "source": [
    "plt.figure(figsize=(20,20))\n",
    "sns.heatmap(data.corr())"
   ]
  },
  {
   "cell_type": "markdown",
   "id": "79ee2ff5-f2a5-4ab1-b286-5bcca623bb2b",
   "metadata": {},
   "source": [
    "Di sini, jika ada pasangan fitur-fitur yang memiliki korelasi tinggi maka akan diambil salah satu saja. Nilai korelasi yang dijadikan patokan sebagai korelasi tinggi tidak pasti, umumnya digunakan angka 0.7."
   ]
  },
  {
   "cell_type": "code",
   "execution_count": 42,
   "id": "c0dc104b-10be-425f-a192-7ed77ef73805",
   "metadata": {},
   "outputs": [
    {
     "name": "stderr",
     "output_type": "stream",
     "text": [
      "/var/folders/nc/g0v_l5zn20350xf1lpqwtklh0000gn/T/ipykernel_14881/1624107534.py:2: DeprecationWarning: `np.bool` is a deprecated alias for the builtin `bool`. To silence this warning, use `bool` by itself. Doing this will not modify any behavior and is safe. If you specifically wanted the numpy scalar type, use `np.bool_` here.\n",
      "Deprecated in NumPy 1.20; for more details and guidance: https://numpy.org/devdocs/release/1.20.0-notes.html#deprecations\n",
      "  upper = corr_matrix.where(np.triu(np.ones(corr_matrix.shape), k=1).astype(np.bool))\n"
     ]
    }
   ],
   "source": [
    "corr_matrix = data.corr().abs()\n",
    "upper = corr_matrix.where(np.triu(np.ones(corr_matrix.shape), k=1).astype(np.bool))\n",
    "to_drop_hicorr = [column for column in upper.columns if any(upper[column] > 0.7)]"
   ]
  },
  {
   "cell_type": "code",
   "execution_count": 43,
   "id": "e113849b-e0fb-4b08-8d26-68d5436d2480",
   "metadata": {},
   "outputs": [
    {
     "data": {
      "text/plain": [
       "['funded_amnt',\n",
       " 'funded_amnt_inv',\n",
       " 'installment',\n",
       " 'out_prncp_inv',\n",
       " 'total_pymnt',\n",
       " 'total_pymnt_inv',\n",
       " 'total_rec_prncp',\n",
       " 'total_rec_int',\n",
       " 'collection_recovery_fee',\n",
       " 'last_pymnt_amnt',\n",
       " 'mths_since_last_major_derog',\n",
       " 'total_rev_hi_lim',\n",
       " 'mths_since_last_pymnt_d',\n",
       " 'mths_since_next_pymnt_d',\n",
       " 'mths_since_last_credit_pull_d']"
      ]
     },
     "execution_count": 43,
     "metadata": {},
     "output_type": "execute_result"
    }
   ],
   "source": [
    "to_drop_hicorr"
   ]
  },
  {
   "cell_type": "code",
   "execution_count": 44,
   "id": "b150ab38-812e-468b-aa67-99d39a9a3fbb",
   "metadata": {},
   "outputs": [],
   "source": [
    "data.drop(to_drop_hicorr, axis=1, inplace=True)"
   ]
  },
  {
   "cell_type": "markdown",
   "id": "6bb5b4b0-bab4-400d-b3ce-464273308583",
   "metadata": {},
   "source": [
    "### Check Categorical Features"
   ]
  },
  {
   "cell_type": "code",
   "execution_count": 45,
   "id": "1652040d-321a-46b2-890a-c1a44cb8417f",
   "metadata": {},
   "outputs": [
    {
     "data": {
      "text/plain": [
       "grade                       7\n",
       "emp_title              205475\n",
       "home_ownership              6\n",
       "verification_status         3\n",
       "pymnt_plan                  2\n",
       "purpose                    14\n",
       "title                   63099\n",
       "addr_state                 50\n",
       "initial_list_status         2\n",
       "application_type            1\n",
       "dtype: int64"
      ]
     },
     "execution_count": 45,
     "metadata": {},
     "output_type": "execute_result"
    }
   ],
   "source": [
    "data.select_dtypes(include='object').nunique()"
   ]
  },
  {
   "cell_type": "markdown",
   "id": "6666c857-7105-4038-a02d-0e930aba210f",
   "metadata": {},
   "source": [
    "Pada tahap ini dilakukan pembuangan fitur yang memiliki nilai unik yang sangat tinggi (high cardinality) dan fitur yang hanya memiliki satu nilai unik saja."
   ]
  },
  {
   "cell_type": "code",
   "execution_count": 46,
   "id": "db7d858a-8b92-4f2b-bfb5-534161faeda0",
   "metadata": {},
   "outputs": [],
   "source": [
    "data.drop(['emp_title', 'title', 'application_type'], axis=1, inplace=True)"
   ]
  },
  {
   "cell_type": "code",
   "execution_count": 47,
   "id": "c8d4b6e7-40d3-4558-9136-bf2ed6eba493",
   "metadata": {},
   "outputs": [
    {
     "data": {
      "text/plain": [
       "loan_amnt                        1352\n",
       "int_rate                          506\n",
       "annual_inc                      31901\n",
       "dti                              3997\n",
       "delinq_2yrs                        24\n",
       "inq_last_6mths                     28\n",
       "mths_since_last_delinq            145\n",
       "mths_since_last_record            123\n",
       "open_acc                           62\n",
       "pub_rec                            26\n",
       "revol_bal                       58142\n",
       "revol_util                       1269\n",
       "total_acc                         112\n",
       "out_prncp                      135665\n",
       "total_rec_late_fee               5808\n",
       "recoveries                      22773\n",
       "collections_12_mths_ex_med          9\n",
       "policy_code                         1\n",
       "acc_now_delinq                      6\n",
       "tot_coll_amt                     6321\n",
       "tot_cur_bal                    220690\n",
       "bad_flag                            2\n",
       "emp_length_int                     11\n",
       "term_int                            2\n",
       "mths_since_earliest_cr_line       515\n",
       "mths_since_issue_d                 91\n",
       "dtype: int64"
      ]
     },
     "execution_count": 47,
     "metadata": {},
     "output_type": "execute_result"
    }
   ],
   "source": [
    "data.select_dtypes(exclude='object').nunique()"
   ]
  },
  {
   "cell_type": "markdown",
   "id": "ed85b594-0a47-4fb4-9f07-9e7a3a530709",
   "metadata": {},
   "source": [
    "Ternyata, pada tipe data selain `object` juga terdapat fitur yang hanya memiliki satu nilai unik saja, maka akan ikut dibuang juga."
   ]
  },
  {
   "cell_type": "code",
   "execution_count": 48,
   "id": "0554d26d-dec2-40fd-8eae-b58ecc295a20",
   "metadata": {},
   "outputs": [],
   "source": [
    "data.drop(['policy_code'], axis=1, inplace=True)"
   ]
  },
  {
   "cell_type": "code",
   "execution_count": 49,
   "id": "dcb23327-e01d-49e2-99ed-8ddf1a59b554",
   "metadata": {
    "tags": []
   },
   "outputs": [
    {
     "name": "stdout",
     "output_type": "stream",
     "text": [
      "B    29.365946\n",
      "C    26.870476\n",
      "D    16.489486\n",
      "A    16.056060\n",
      "E     7.668486\n",
      "F     2.837106\n",
      "G     0.712440\n",
      "Name: grade, dtype: float64\n",
      "\n",
      "\n",
      "MORTGAGE    50.586015\n",
      "RENT        40.420129\n",
      "OWN          8.943886\n",
      "OTHER        0.039032\n",
      "NONE         0.010723\n",
      "ANY          0.000214\n",
      "Name: home_ownership, dtype: float64\n",
      "\n",
      "\n",
      "Verified           36.041262\n",
      "Source Verified    32.167666\n",
      "Not Verified       31.791072\n",
      "Name: verification_status, dtype: float64\n",
      "\n",
      "\n",
      "n    99.99807\n",
      "y     0.00193\n",
      "Name: pymnt_plan, dtype: float64\n",
      "\n",
      "\n",
      "debt_consolidation    58.804165\n",
      "credit_card           22.337626\n",
      "home_improvement       5.691155\n",
      "other                  5.080584\n",
      "major_purchase         2.107724\n",
      "small_business         1.504016\n",
      "car                    1.157447\n",
      "medical                0.986950\n",
      "moving                 0.642097\n",
      "vacation               0.533365\n",
      "wedding                0.502482\n",
      "house                  0.486612\n",
      "educational            0.090503\n",
      "renewable_energy       0.075276\n",
      "Name: purpose, dtype: float64\n",
      "\n",
      "\n",
      "CA    15.323247\n",
      "NY     8.630344\n",
      "TX     7.814748\n",
      "FL     6.784906\n",
      "IL     3.991550\n",
      "NJ     3.873382\n",
      "PA     3.522309\n",
      "OH     3.267744\n",
      "GA     3.211555\n",
      "VA     3.050066\n",
      "NC     2.719796\n",
      "MI     2.476811\n",
      "MA     2.374513\n",
      "MD     2.353496\n",
      "AZ     2.297307\n",
      "WA     2.255488\n",
      "CO     2.088637\n",
      "MN     1.749574\n",
      "MO     1.610174\n",
      "CT     1.544978\n",
      "IN     1.399359\n",
      "NV     1.398072\n",
      "TN     1.283335\n",
      "OR     1.275829\n",
      "WI     1.267680\n",
      "AL     1.255241\n",
      "SC     1.197336\n",
      "LA     1.177177\n",
      "KY     0.951778\n",
      "KS     0.898592\n",
      "OK     0.882936\n",
      "AR     0.748040\n",
      "UT     0.735173\n",
      "NM     0.555025\n",
      "HI     0.533365\n",
      "WV     0.517280\n",
      "NH     0.478677\n",
      "RI     0.439645\n",
      "DC     0.305822\n",
      "MT     0.299388\n",
      "DE     0.272795\n",
      "AK     0.268291\n",
      "MS     0.262929\n",
      "WY     0.241912\n",
      "SD     0.210172\n",
      "VT     0.194087\n",
      "IA     0.003002\n",
      "NE     0.003002\n",
      "ID     0.002574\n",
      "ME     0.000858\n",
      "Name: addr_state, dtype: float64\n",
      "\n",
      "\n",
      "f    64.982789\n",
      "w    35.017211\n",
      "Name: initial_list_status, dtype: float64\n",
      "\n",
      "\n"
     ]
    }
   ],
   "source": [
    "for col in data.select_dtypes(include='object').columns.tolist():\n",
    "    print(data[col].value_counts(normalize=True)*100)\n",
    "    print('\\n')"
   ]
  },
  {
   "cell_type": "markdown",
   "id": "69075c25-4d3e-486a-9120-b453a67e6894",
   "metadata": {},
   "source": [
    "Fitur yang sangat didominasi oleh salah satu nilai saja akan dibuang pada tahap ini."
   ]
  },
  {
   "cell_type": "code",
   "execution_count": 50,
   "id": "d01b0ed0-2223-4cd6-a7d4-b4ad40373c31",
   "metadata": {},
   "outputs": [],
   "source": [
    "data.drop('pymnt_plan', axis=1, inplace=True)"
   ]
  },
  {
   "cell_type": "markdown",
   "id": "8483ce96-e8bc-4dd4-b247-d58b1d269442",
   "metadata": {
    "tags": []
   },
   "source": [
    "# MISSING VALUES"
   ]
  },
  {
   "cell_type": "markdown",
   "id": "1101903e-08e6-4d64-8b5e-89977b5b9131",
   "metadata": {},
   "source": [
    "### Missing Value Checking"
   ]
  },
  {
   "cell_type": "code",
   "execution_count": 51,
   "id": "5cdcfdbc-4b86-4660-8cab-a6af9c28c972",
   "metadata": {
    "tags": []
   },
   "outputs": [
    {
     "data": {
      "text/plain": [
       "mths_since_last_record         86.566585\n",
       "mths_since_last_delinq         53.690554\n",
       "tot_coll_amt                   15.071469\n",
       "tot_cur_bal                    15.071469\n",
       "emp_length_int                  4.505399\n",
       "revol_util                      0.072917\n",
       "collections_12_mths_ex_med      0.031097\n",
       "delinq_2yrs                     0.006219\n",
       "inq_last_6mths                  0.006219\n",
       "open_acc                        0.006219\n",
       "pub_rec                         0.006219\n",
       "total_acc                       0.006219\n",
       "acc_now_delinq                  0.006219\n",
       "mths_since_earliest_cr_line     0.006219\n",
       "annual_inc                      0.000858\n",
       "dtype: float64"
      ]
     },
     "execution_count": 51,
     "metadata": {},
     "output_type": "execute_result"
    }
   ],
   "source": [
    "check_missing = data.isnull().sum() * 100 / data.shape[0]\n",
    "check_missing[check_missing > 0].sort_values(ascending=False)"
   ]
  },
  {
   "cell_type": "markdown",
   "id": "0ad9003e-ebbe-4fba-8d14-ab076156679f",
   "metadata": {},
   "source": [
    "Di sini, kolom-kolom dengan missing values di atas 75% dibuang"
   ]
  },
  {
   "cell_type": "code",
   "execution_count": 52,
   "id": "c90de401-3c8f-4e30-8d44-1c9454f28fbd",
   "metadata": {},
   "outputs": [],
   "source": [
    "data.drop('mths_since_last_record', axis=1, inplace=True)"
   ]
  },
  {
   "cell_type": "markdown",
   "id": "517f9f50-a6a9-4256-bed5-9c7257cb7d7c",
   "metadata": {},
   "source": [
    "### Missing Values Filling"
   ]
  },
  {
   "cell_type": "code",
   "execution_count": 53,
   "id": "54d0a97a-751e-47a6-82dc-30d69f84c542",
   "metadata": {},
   "outputs": [],
   "source": [
    "data['annual_inc'].fillna(data['annual_inc'].mean(), inplace=True)\n",
    "data['mths_since_earliest_cr_line'].fillna(0, inplace=True)\n",
    "data['acc_now_delinq'].fillna(0, inplace=True)\n",
    "data['total_acc'].fillna(0, inplace=True)\n",
    "data['pub_rec'].fillna(0, inplace=True)\n",
    "data['open_acc'].fillna(0, inplace=True)\n",
    "data['inq_last_6mths'].fillna(0, inplace=True)\n",
    "data['delinq_2yrs'].fillna(0, inplace=True)\n",
    "data['collections_12_mths_ex_med'].fillna(0, inplace=True)\n",
    "data['revol_util'].fillna(0, inplace=True)\n",
    "data['emp_length_int'].fillna(0, inplace=True)\n",
    "data['tot_cur_bal'].fillna(0, inplace=True)\n",
    "data['tot_coll_amt'].fillna(0, inplace=True)\n",
    "data['mths_since_last_delinq'].fillna(-1, inplace=True)"
   ]
  },
  {
   "cell_type": "markdown",
   "id": "c28ecfd6-bfd0-4d45-b34e-42317e867501",
   "metadata": {},
   "source": [
    "# FEATURE SCALING AND TRANSFORMATION"
   ]
  },
  {
   "cell_type": "markdown",
   "id": "ab3c322d-1522-4a5c-9dcf-c1a886b39682",
   "metadata": {},
   "source": [
    "### One Hot Encoding"
   ]
  },
  {
   "cell_type": "markdown",
   "id": "991d3330-8cca-499e-9954-1c808d3b2f34",
   "metadata": {},
   "source": [
    "Semua kolom kategorikal dilakukan One Hot Encoding."
   ]
  },
  {
   "cell_type": "code",
   "execution_count": 54,
   "id": "bb2303a2-31ef-43ab-b56e-768549a03cc3",
   "metadata": {},
   "outputs": [],
   "source": [
    "categorical_cols = [col for col in data.select_dtypes(include='object').columns.tolist()]"
   ]
  },
  {
   "cell_type": "code",
   "execution_count": 55,
   "id": "cfa85b8b-37e4-4340-bac5-195823e6e826",
   "metadata": {},
   "outputs": [],
   "source": [
    "onehot = pd.get_dummies(data[categorical_cols], drop_first=True)"
   ]
  },
  {
   "cell_type": "code",
   "execution_count": 56,
   "id": "1b03ef73-68fa-4cf1-a818-30c351da5371",
   "metadata": {},
   "outputs": [
    {
     "data": {
      "text/html": [
       "<div>\n",
       "<style scoped>\n",
       "    .dataframe tbody tr th:only-of-type {\n",
       "        vertical-align: middle;\n",
       "    }\n",
       "\n",
       "    .dataframe tbody tr th {\n",
       "        vertical-align: top;\n",
       "    }\n",
       "\n",
       "    .dataframe thead th {\n",
       "        text-align: right;\n",
       "    }\n",
       "</style>\n",
       "<table border=\"1\" class=\"dataframe\">\n",
       "  <thead>\n",
       "    <tr style=\"text-align: right;\">\n",
       "      <th></th>\n",
       "      <th>grade_B</th>\n",
       "      <th>grade_C</th>\n",
       "      <th>grade_D</th>\n",
       "      <th>grade_E</th>\n",
       "      <th>grade_F</th>\n",
       "      <th>grade_G</th>\n",
       "      <th>home_ownership_MORTGAGE</th>\n",
       "      <th>home_ownership_NONE</th>\n",
       "      <th>home_ownership_OTHER</th>\n",
       "      <th>home_ownership_OWN</th>\n",
       "      <th>home_ownership_RENT</th>\n",
       "      <th>verification_status_Source Verified</th>\n",
       "      <th>verification_status_Verified</th>\n",
       "      <th>purpose_credit_card</th>\n",
       "      <th>purpose_debt_consolidation</th>\n",
       "      <th>purpose_educational</th>\n",
       "      <th>purpose_home_improvement</th>\n",
       "      <th>purpose_house</th>\n",
       "      <th>purpose_major_purchase</th>\n",
       "      <th>purpose_medical</th>\n",
       "      <th>purpose_moving</th>\n",
       "      <th>purpose_other</th>\n",
       "      <th>purpose_renewable_energy</th>\n",
       "      <th>purpose_small_business</th>\n",
       "      <th>purpose_vacation</th>\n",
       "      <th>purpose_wedding</th>\n",
       "      <th>addr_state_AL</th>\n",
       "      <th>addr_state_AR</th>\n",
       "      <th>addr_state_AZ</th>\n",
       "      <th>addr_state_CA</th>\n",
       "      <th>addr_state_CO</th>\n",
       "      <th>addr_state_CT</th>\n",
       "      <th>addr_state_DC</th>\n",
       "      <th>addr_state_DE</th>\n",
       "      <th>addr_state_FL</th>\n",
       "      <th>addr_state_GA</th>\n",
       "      <th>addr_state_HI</th>\n",
       "      <th>addr_state_IA</th>\n",
       "      <th>addr_state_ID</th>\n",
       "      <th>addr_state_IL</th>\n",
       "      <th>addr_state_IN</th>\n",
       "      <th>addr_state_KS</th>\n",
       "      <th>addr_state_KY</th>\n",
       "      <th>addr_state_LA</th>\n",
       "      <th>addr_state_MA</th>\n",
       "      <th>addr_state_MD</th>\n",
       "      <th>addr_state_ME</th>\n",
       "      <th>addr_state_MI</th>\n",
       "      <th>addr_state_MN</th>\n",
       "      <th>addr_state_MO</th>\n",
       "      <th>addr_state_MS</th>\n",
       "      <th>addr_state_MT</th>\n",
       "      <th>addr_state_NC</th>\n",
       "      <th>addr_state_NE</th>\n",
       "      <th>addr_state_NH</th>\n",
       "      <th>addr_state_NJ</th>\n",
       "      <th>addr_state_NM</th>\n",
       "      <th>addr_state_NV</th>\n",
       "      <th>addr_state_NY</th>\n",
       "      <th>addr_state_OH</th>\n",
       "      <th>addr_state_OK</th>\n",
       "      <th>addr_state_OR</th>\n",
       "      <th>addr_state_PA</th>\n",
       "      <th>addr_state_RI</th>\n",
       "      <th>addr_state_SC</th>\n",
       "      <th>addr_state_SD</th>\n",
       "      <th>addr_state_TN</th>\n",
       "      <th>addr_state_TX</th>\n",
       "      <th>addr_state_UT</th>\n",
       "      <th>addr_state_VA</th>\n",
       "      <th>addr_state_VT</th>\n",
       "      <th>addr_state_WA</th>\n",
       "      <th>addr_state_WI</th>\n",
       "      <th>addr_state_WV</th>\n",
       "      <th>addr_state_WY</th>\n",
       "      <th>initial_list_status_w</th>\n",
       "    </tr>\n",
       "  </thead>\n",
       "  <tbody>\n",
       "    <tr>\n",
       "      <th>0</th>\n",
       "      <td>1</td>\n",
       "      <td>0</td>\n",
       "      <td>0</td>\n",
       "      <td>0</td>\n",
       "      <td>0</td>\n",
       "      <td>0</td>\n",
       "      <td>0</td>\n",
       "      <td>0</td>\n",
       "      <td>0</td>\n",
       "      <td>0</td>\n",
       "      <td>1</td>\n",
       "      <td>0</td>\n",
       "      <td>1</td>\n",
       "      <td>1</td>\n",
       "      <td>0</td>\n",
       "      <td>0</td>\n",
       "      <td>0</td>\n",
       "      <td>0</td>\n",
       "      <td>0</td>\n",
       "      <td>0</td>\n",
       "      <td>0</td>\n",
       "      <td>0</td>\n",
       "      <td>0</td>\n",
       "      <td>0</td>\n",
       "      <td>0</td>\n",
       "      <td>0</td>\n",
       "      <td>0</td>\n",
       "      <td>0</td>\n",
       "      <td>1</td>\n",
       "      <td>0</td>\n",
       "      <td>0</td>\n",
       "      <td>0</td>\n",
       "      <td>0</td>\n",
       "      <td>0</td>\n",
       "      <td>0</td>\n",
       "      <td>0</td>\n",
       "      <td>0</td>\n",
       "      <td>0</td>\n",
       "      <td>0</td>\n",
       "      <td>0</td>\n",
       "      <td>0</td>\n",
       "      <td>0</td>\n",
       "      <td>0</td>\n",
       "      <td>0</td>\n",
       "      <td>0</td>\n",
       "      <td>0</td>\n",
       "      <td>0</td>\n",
       "      <td>0</td>\n",
       "      <td>0</td>\n",
       "      <td>0</td>\n",
       "      <td>0</td>\n",
       "      <td>0</td>\n",
       "      <td>0</td>\n",
       "      <td>0</td>\n",
       "      <td>0</td>\n",
       "      <td>0</td>\n",
       "      <td>0</td>\n",
       "      <td>0</td>\n",
       "      <td>0</td>\n",
       "      <td>0</td>\n",
       "      <td>0</td>\n",
       "      <td>0</td>\n",
       "      <td>0</td>\n",
       "      <td>0</td>\n",
       "      <td>0</td>\n",
       "      <td>0</td>\n",
       "      <td>0</td>\n",
       "      <td>0</td>\n",
       "      <td>0</td>\n",
       "      <td>0</td>\n",
       "      <td>0</td>\n",
       "      <td>0</td>\n",
       "      <td>0</td>\n",
       "      <td>0</td>\n",
       "      <td>0</td>\n",
       "      <td>0</td>\n",
       "    </tr>\n",
       "    <tr>\n",
       "      <th>1</th>\n",
       "      <td>0</td>\n",
       "      <td>1</td>\n",
       "      <td>0</td>\n",
       "      <td>0</td>\n",
       "      <td>0</td>\n",
       "      <td>0</td>\n",
       "      <td>0</td>\n",
       "      <td>0</td>\n",
       "      <td>0</td>\n",
       "      <td>0</td>\n",
       "      <td>1</td>\n",
       "      <td>1</td>\n",
       "      <td>0</td>\n",
       "      <td>0</td>\n",
       "      <td>0</td>\n",
       "      <td>0</td>\n",
       "      <td>0</td>\n",
       "      <td>0</td>\n",
       "      <td>0</td>\n",
       "      <td>0</td>\n",
       "      <td>0</td>\n",
       "      <td>0</td>\n",
       "      <td>0</td>\n",
       "      <td>0</td>\n",
       "      <td>0</td>\n",
       "      <td>0</td>\n",
       "      <td>0</td>\n",
       "      <td>0</td>\n",
       "      <td>0</td>\n",
       "      <td>0</td>\n",
       "      <td>0</td>\n",
       "      <td>0</td>\n",
       "      <td>0</td>\n",
       "      <td>0</td>\n",
       "      <td>0</td>\n",
       "      <td>1</td>\n",
       "      <td>0</td>\n",
       "      <td>0</td>\n",
       "      <td>0</td>\n",
       "      <td>0</td>\n",
       "      <td>0</td>\n",
       "      <td>0</td>\n",
       "      <td>0</td>\n",
       "      <td>0</td>\n",
       "      <td>0</td>\n",
       "      <td>0</td>\n",
       "      <td>0</td>\n",
       "      <td>0</td>\n",
       "      <td>0</td>\n",
       "      <td>0</td>\n",
       "      <td>0</td>\n",
       "      <td>0</td>\n",
       "      <td>0</td>\n",
       "      <td>0</td>\n",
       "      <td>0</td>\n",
       "      <td>0</td>\n",
       "      <td>0</td>\n",
       "      <td>0</td>\n",
       "      <td>0</td>\n",
       "      <td>0</td>\n",
       "      <td>0</td>\n",
       "      <td>0</td>\n",
       "      <td>0</td>\n",
       "      <td>0</td>\n",
       "      <td>0</td>\n",
       "      <td>0</td>\n",
       "      <td>0</td>\n",
       "      <td>0</td>\n",
       "      <td>0</td>\n",
       "      <td>0</td>\n",
       "      <td>0</td>\n",
       "      <td>0</td>\n",
       "      <td>0</td>\n",
       "      <td>0</td>\n",
       "      <td>0</td>\n",
       "      <td>0</td>\n",
       "    </tr>\n",
       "    <tr>\n",
       "      <th>2</th>\n",
       "      <td>0</td>\n",
       "      <td>1</td>\n",
       "      <td>0</td>\n",
       "      <td>0</td>\n",
       "      <td>0</td>\n",
       "      <td>0</td>\n",
       "      <td>0</td>\n",
       "      <td>0</td>\n",
       "      <td>0</td>\n",
       "      <td>0</td>\n",
       "      <td>1</td>\n",
       "      <td>0</td>\n",
       "      <td>0</td>\n",
       "      <td>0</td>\n",
       "      <td>0</td>\n",
       "      <td>0</td>\n",
       "      <td>0</td>\n",
       "      <td>0</td>\n",
       "      <td>0</td>\n",
       "      <td>0</td>\n",
       "      <td>0</td>\n",
       "      <td>0</td>\n",
       "      <td>0</td>\n",
       "      <td>1</td>\n",
       "      <td>0</td>\n",
       "      <td>0</td>\n",
       "      <td>0</td>\n",
       "      <td>0</td>\n",
       "      <td>0</td>\n",
       "      <td>0</td>\n",
       "      <td>0</td>\n",
       "      <td>0</td>\n",
       "      <td>0</td>\n",
       "      <td>0</td>\n",
       "      <td>0</td>\n",
       "      <td>0</td>\n",
       "      <td>0</td>\n",
       "      <td>0</td>\n",
       "      <td>0</td>\n",
       "      <td>1</td>\n",
       "      <td>0</td>\n",
       "      <td>0</td>\n",
       "      <td>0</td>\n",
       "      <td>0</td>\n",
       "      <td>0</td>\n",
       "      <td>0</td>\n",
       "      <td>0</td>\n",
       "      <td>0</td>\n",
       "      <td>0</td>\n",
       "      <td>0</td>\n",
       "      <td>0</td>\n",
       "      <td>0</td>\n",
       "      <td>0</td>\n",
       "      <td>0</td>\n",
       "      <td>0</td>\n",
       "      <td>0</td>\n",
       "      <td>0</td>\n",
       "      <td>0</td>\n",
       "      <td>0</td>\n",
       "      <td>0</td>\n",
       "      <td>0</td>\n",
       "      <td>0</td>\n",
       "      <td>0</td>\n",
       "      <td>0</td>\n",
       "      <td>0</td>\n",
       "      <td>0</td>\n",
       "      <td>0</td>\n",
       "      <td>0</td>\n",
       "      <td>0</td>\n",
       "      <td>0</td>\n",
       "      <td>0</td>\n",
       "      <td>0</td>\n",
       "      <td>0</td>\n",
       "      <td>0</td>\n",
       "      <td>0</td>\n",
       "      <td>0</td>\n",
       "    </tr>\n",
       "    <tr>\n",
       "      <th>3</th>\n",
       "      <td>0</td>\n",
       "      <td>1</td>\n",
       "      <td>0</td>\n",
       "      <td>0</td>\n",
       "      <td>0</td>\n",
       "      <td>0</td>\n",
       "      <td>0</td>\n",
       "      <td>0</td>\n",
       "      <td>0</td>\n",
       "      <td>0</td>\n",
       "      <td>1</td>\n",
       "      <td>1</td>\n",
       "      <td>0</td>\n",
       "      <td>0</td>\n",
       "      <td>0</td>\n",
       "      <td>0</td>\n",
       "      <td>0</td>\n",
       "      <td>0</td>\n",
       "      <td>0</td>\n",
       "      <td>0</td>\n",
       "      <td>0</td>\n",
       "      <td>1</td>\n",
       "      <td>0</td>\n",
       "      <td>0</td>\n",
       "      <td>0</td>\n",
       "      <td>0</td>\n",
       "      <td>0</td>\n",
       "      <td>0</td>\n",
       "      <td>0</td>\n",
       "      <td>1</td>\n",
       "      <td>0</td>\n",
       "      <td>0</td>\n",
       "      <td>0</td>\n",
       "      <td>0</td>\n",
       "      <td>0</td>\n",
       "      <td>0</td>\n",
       "      <td>0</td>\n",
       "      <td>0</td>\n",
       "      <td>0</td>\n",
       "      <td>0</td>\n",
       "      <td>0</td>\n",
       "      <td>0</td>\n",
       "      <td>0</td>\n",
       "      <td>0</td>\n",
       "      <td>0</td>\n",
       "      <td>0</td>\n",
       "      <td>0</td>\n",
       "      <td>0</td>\n",
       "      <td>0</td>\n",
       "      <td>0</td>\n",
       "      <td>0</td>\n",
       "      <td>0</td>\n",
       "      <td>0</td>\n",
       "      <td>0</td>\n",
       "      <td>0</td>\n",
       "      <td>0</td>\n",
       "      <td>0</td>\n",
       "      <td>0</td>\n",
       "      <td>0</td>\n",
       "      <td>0</td>\n",
       "      <td>0</td>\n",
       "      <td>0</td>\n",
       "      <td>0</td>\n",
       "      <td>0</td>\n",
       "      <td>0</td>\n",
       "      <td>0</td>\n",
       "      <td>0</td>\n",
       "      <td>0</td>\n",
       "      <td>0</td>\n",
       "      <td>0</td>\n",
       "      <td>0</td>\n",
       "      <td>0</td>\n",
       "      <td>0</td>\n",
       "      <td>0</td>\n",
       "      <td>0</td>\n",
       "      <td>0</td>\n",
       "    </tr>\n",
       "    <tr>\n",
       "      <th>4</th>\n",
       "      <td>1</td>\n",
       "      <td>0</td>\n",
       "      <td>0</td>\n",
       "      <td>0</td>\n",
       "      <td>0</td>\n",
       "      <td>0</td>\n",
       "      <td>0</td>\n",
       "      <td>0</td>\n",
       "      <td>0</td>\n",
       "      <td>0</td>\n",
       "      <td>1</td>\n",
       "      <td>1</td>\n",
       "      <td>0</td>\n",
       "      <td>0</td>\n",
       "      <td>0</td>\n",
       "      <td>0</td>\n",
       "      <td>0</td>\n",
       "      <td>0</td>\n",
       "      <td>0</td>\n",
       "      <td>0</td>\n",
       "      <td>0</td>\n",
       "      <td>1</td>\n",
       "      <td>0</td>\n",
       "      <td>0</td>\n",
       "      <td>0</td>\n",
       "      <td>0</td>\n",
       "      <td>0</td>\n",
       "      <td>0</td>\n",
       "      <td>0</td>\n",
       "      <td>0</td>\n",
       "      <td>0</td>\n",
       "      <td>0</td>\n",
       "      <td>0</td>\n",
       "      <td>0</td>\n",
       "      <td>0</td>\n",
       "      <td>0</td>\n",
       "      <td>0</td>\n",
       "      <td>0</td>\n",
       "      <td>0</td>\n",
       "      <td>0</td>\n",
       "      <td>0</td>\n",
       "      <td>0</td>\n",
       "      <td>0</td>\n",
       "      <td>0</td>\n",
       "      <td>0</td>\n",
       "      <td>0</td>\n",
       "      <td>0</td>\n",
       "      <td>0</td>\n",
       "      <td>0</td>\n",
       "      <td>0</td>\n",
       "      <td>0</td>\n",
       "      <td>0</td>\n",
       "      <td>0</td>\n",
       "      <td>0</td>\n",
       "      <td>0</td>\n",
       "      <td>0</td>\n",
       "      <td>0</td>\n",
       "      <td>0</td>\n",
       "      <td>0</td>\n",
       "      <td>0</td>\n",
       "      <td>0</td>\n",
       "      <td>1</td>\n",
       "      <td>0</td>\n",
       "      <td>0</td>\n",
       "      <td>0</td>\n",
       "      <td>0</td>\n",
       "      <td>0</td>\n",
       "      <td>0</td>\n",
       "      <td>0</td>\n",
       "      <td>0</td>\n",
       "      <td>0</td>\n",
       "      <td>0</td>\n",
       "      <td>0</td>\n",
       "      <td>0</td>\n",
       "      <td>0</td>\n",
       "      <td>0</td>\n",
       "    </tr>\n",
       "  </tbody>\n",
       "</table>\n",
       "</div>"
      ],
      "text/plain": [
       "   grade_B  grade_C  grade_D  grade_E  grade_F  grade_G  \\\n",
       "0        1        0        0        0        0        0   \n",
       "1        0        1        0        0        0        0   \n",
       "2        0        1        0        0        0        0   \n",
       "3        0        1        0        0        0        0   \n",
       "4        1        0        0        0        0        0   \n",
       "\n",
       "   home_ownership_MORTGAGE  home_ownership_NONE  home_ownership_OTHER  \\\n",
       "0                        0                    0                     0   \n",
       "1                        0                    0                     0   \n",
       "2                        0                    0                     0   \n",
       "3                        0                    0                     0   \n",
       "4                        0                    0                     0   \n",
       "\n",
       "   home_ownership_OWN  home_ownership_RENT  \\\n",
       "0                   0                    1   \n",
       "1                   0                    1   \n",
       "2                   0                    1   \n",
       "3                   0                    1   \n",
       "4                   0                    1   \n",
       "\n",
       "   verification_status_Source Verified  verification_status_Verified  \\\n",
       "0                                    0                             1   \n",
       "1                                    1                             0   \n",
       "2                                    0                             0   \n",
       "3                                    1                             0   \n",
       "4                                    1                             0   \n",
       "\n",
       "   purpose_credit_card  purpose_debt_consolidation  purpose_educational  \\\n",
       "0                    1                           0                    0   \n",
       "1                    0                           0                    0   \n",
       "2                    0                           0                    0   \n",
       "3                    0                           0                    0   \n",
       "4                    0                           0                    0   \n",
       "\n",
       "   purpose_home_improvement  purpose_house  purpose_major_purchase  \\\n",
       "0                         0              0                       0   \n",
       "1                         0              0                       0   \n",
       "2                         0              0                       0   \n",
       "3                         0              0                       0   \n",
       "4                         0              0                       0   \n",
       "\n",
       "   purpose_medical  purpose_moving  purpose_other  purpose_renewable_energy  \\\n",
       "0                0               0              0                         0   \n",
       "1                0               0              0                         0   \n",
       "2                0               0              0                         0   \n",
       "3                0               0              1                         0   \n",
       "4                0               0              1                         0   \n",
       "\n",
       "   purpose_small_business  purpose_vacation  purpose_wedding  addr_state_AL  \\\n",
       "0                       0                 0                0              0   \n",
       "1                       0                 0                0              0   \n",
       "2                       1                 0                0              0   \n",
       "3                       0                 0                0              0   \n",
       "4                       0                 0                0              0   \n",
       "\n",
       "   addr_state_AR  addr_state_AZ  addr_state_CA  addr_state_CO  addr_state_CT  \\\n",
       "0              0              1              0              0              0   \n",
       "1              0              0              0              0              0   \n",
       "2              0              0              0              0              0   \n",
       "3              0              0              1              0              0   \n",
       "4              0              0              0              0              0   \n",
       "\n",
       "   addr_state_DC  addr_state_DE  addr_state_FL  addr_state_GA  addr_state_HI  \\\n",
       "0              0              0              0              0              0   \n",
       "1              0              0              0              1              0   \n",
       "2              0              0              0              0              0   \n",
       "3              0              0              0              0              0   \n",
       "4              0              0              0              0              0   \n",
       "\n",
       "   addr_state_IA  addr_state_ID  addr_state_IL  addr_state_IN  addr_state_KS  \\\n",
       "0              0              0              0              0              0   \n",
       "1              0              0              0              0              0   \n",
       "2              0              0              1              0              0   \n",
       "3              0              0              0              0              0   \n",
       "4              0              0              0              0              0   \n",
       "\n",
       "   addr_state_KY  addr_state_LA  addr_state_MA  addr_state_MD  addr_state_ME  \\\n",
       "0              0              0              0              0              0   \n",
       "1              0              0              0              0              0   \n",
       "2              0              0              0              0              0   \n",
       "3              0              0              0              0              0   \n",
       "4              0              0              0              0              0   \n",
       "\n",
       "   addr_state_MI  addr_state_MN  addr_state_MO  addr_state_MS  addr_state_MT  \\\n",
       "0              0              0              0              0              0   \n",
       "1              0              0              0              0              0   \n",
       "2              0              0              0              0              0   \n",
       "3              0              0              0              0              0   \n",
       "4              0              0              0              0              0   \n",
       "\n",
       "   addr_state_NC  addr_state_NE  addr_state_NH  addr_state_NJ  addr_state_NM  \\\n",
       "0              0              0              0              0              0   \n",
       "1              0              0              0              0              0   \n",
       "2              0              0              0              0              0   \n",
       "3              0              0              0              0              0   \n",
       "4              0              0              0              0              0   \n",
       "\n",
       "   addr_state_NV  addr_state_NY  addr_state_OH  addr_state_OK  addr_state_OR  \\\n",
       "0              0              0              0              0              0   \n",
       "1              0              0              0              0              0   \n",
       "2              0              0              0              0              0   \n",
       "3              0              0              0              0              0   \n",
       "4              0              0              0              0              1   \n",
       "\n",
       "   addr_state_PA  addr_state_RI  addr_state_SC  addr_state_SD  addr_state_TN  \\\n",
       "0              0              0              0              0              0   \n",
       "1              0              0              0              0              0   \n",
       "2              0              0              0              0              0   \n",
       "3              0              0              0              0              0   \n",
       "4              0              0              0              0              0   \n",
       "\n",
       "   addr_state_TX  addr_state_UT  addr_state_VA  addr_state_VT  addr_state_WA  \\\n",
       "0              0              0              0              0              0   \n",
       "1              0              0              0              0              0   \n",
       "2              0              0              0              0              0   \n",
       "3              0              0              0              0              0   \n",
       "4              0              0              0              0              0   \n",
       "\n",
       "   addr_state_WI  addr_state_WV  addr_state_WY  initial_list_status_w  \n",
       "0              0              0              0                      0  \n",
       "1              0              0              0                      0  \n",
       "2              0              0              0                      0  \n",
       "3              0              0              0                      0  \n",
       "4              0              0              0                      0  "
      ]
     },
     "execution_count": 56,
     "metadata": {},
     "output_type": "execute_result"
    }
   ],
   "source": [
    "onehot.head()"
   ]
  },
  {
   "cell_type": "markdown",
   "id": "deb37d80-a83a-4256-837f-f3e4f66cc148",
   "metadata": {},
   "source": [
    "### Standardization"
   ]
  },
  {
   "cell_type": "markdown",
   "id": "6d32ab99-ff99-4984-91f2-2c8dba37ac47",
   "metadata": {},
   "source": [
    "Semua kolom numerikal dilakukan proses standarisasi dengan StandardScaler."
   ]
  },
  {
   "cell_type": "code",
   "execution_count": 57,
   "id": "e46550bb-77e4-49dd-b995-4d3c8cd9bd00",
   "metadata": {},
   "outputs": [],
   "source": [
    "numerical_cols = [col for col in data.columns.tolist() if col not in categorical_cols + ['bad_flag']]"
   ]
  },
  {
   "cell_type": "code",
   "execution_count": 58,
   "id": "795b4222-6018-41c3-a655-f9fa130228c5",
   "metadata": {},
   "outputs": [],
   "source": [
    "from sklearn.preprocessing import StandardScaler\n",
    "\n",
    "ss = StandardScaler()\n",
    "std = pd.DataFrame(ss.fit_transform(data[numerical_cols]), columns=numerical_cols)"
   ]
  },
  {
   "cell_type": "code",
   "execution_count": 59,
   "id": "3d5fd301-e010-42ed-bb7e-5c85165251a2",
   "metadata": {},
   "outputs": [
    {
     "data": {
      "text/html": [
       "<div>\n",
       "<style scoped>\n",
       "    .dataframe tbody tr th:only-of-type {\n",
       "        vertical-align: middle;\n",
       "    }\n",
       "\n",
       "    .dataframe tbody tr th {\n",
       "        vertical-align: top;\n",
       "    }\n",
       "\n",
       "    .dataframe thead th {\n",
       "        text-align: right;\n",
       "    }\n",
       "</style>\n",
       "<table border=\"1\" class=\"dataframe\">\n",
       "  <thead>\n",
       "    <tr style=\"text-align: right;\">\n",
       "      <th></th>\n",
       "      <th>loan_amnt</th>\n",
       "      <th>int_rate</th>\n",
       "      <th>annual_inc</th>\n",
       "      <th>dti</th>\n",
       "      <th>delinq_2yrs</th>\n",
       "      <th>inq_last_6mths</th>\n",
       "      <th>mths_since_last_delinq</th>\n",
       "      <th>open_acc</th>\n",
       "      <th>pub_rec</th>\n",
       "      <th>revol_bal</th>\n",
       "      <th>revol_util</th>\n",
       "      <th>total_acc</th>\n",
       "      <th>out_prncp</th>\n",
       "      <th>total_rec_late_fee</th>\n",
       "      <th>recoveries</th>\n",
       "      <th>collections_12_mths_ex_med</th>\n",
       "      <th>acc_now_delinq</th>\n",
       "      <th>tot_coll_amt</th>\n",
       "      <th>tot_cur_bal</th>\n",
       "      <th>emp_length_int</th>\n",
       "      <th>term_int</th>\n",
       "      <th>mths_since_earliest_cr_line</th>\n",
       "      <th>mths_since_issue_d</th>\n",
       "    </tr>\n",
       "  </thead>\n",
       "  <tbody>\n",
       "    <tr>\n",
       "      <th>0</th>\n",
       "      <td>-1.124392</td>\n",
       "      <td>-0.729587</td>\n",
       "      <td>-0.896551</td>\n",
       "      <td>1.328632</td>\n",
       "      <td>-0.357012</td>\n",
       "      <td>0.178920</td>\n",
       "      <td>-0.708792</td>\n",
       "      <td>-1.641166</td>\n",
       "      <td>-0.31429</td>\n",
       "      <td>-0.124888</td>\n",
       "      <td>1.159498</td>\n",
       "      <td>-1.384557</td>\n",
       "      <td>-0.693944</td>\n",
       "      <td>-0.123464</td>\n",
       "      <td>-0.154549</td>\n",
       "      <td>-0.083608</td>\n",
       "      <td>-0.058307</td>\n",
       "      <td>-0.012089</td>\n",
       "      <td>-0.792648</td>\n",
       "      <td>1.138605</td>\n",
       "      <td>-0.616225</td>\n",
       "      <td>1.764941</td>\n",
       "      <td>1.446626</td>\n",
       "    </tr>\n",
       "    <tr>\n",
       "      <th>1</th>\n",
       "      <td>-1.426088</td>\n",
       "      <td>0.330634</td>\n",
       "      <td>-0.787387</td>\n",
       "      <td>-2.065791</td>\n",
       "      <td>-0.357012</td>\n",
       "      <td>3.843328</td>\n",
       "      <td>-0.708792</td>\n",
       "      <td>-1.641166</td>\n",
       "      <td>-0.31429</td>\n",
       "      <td>-0.703378</td>\n",
       "      <td>-1.965980</td>\n",
       "      <td>-1.815538</td>\n",
       "      <td>-0.693944</td>\n",
       "      <td>-0.123464</td>\n",
       "      <td>0.057470</td>\n",
       "      <td>-0.083608</td>\n",
       "      <td>-0.058307</td>\n",
       "      <td>-0.012089</td>\n",
       "      <td>-0.792648</td>\n",
       "      <td>-1.523744</td>\n",
       "      <td>1.622784</td>\n",
       "      <td>-0.212426</td>\n",
       "      <td>1.446626</td>\n",
       "    </tr>\n",
       "    <tr>\n",
       "      <th>2</th>\n",
       "      <td>-1.438156</td>\n",
       "      <td>0.488979</td>\n",
       "      <td>-1.110294</td>\n",
       "      <td>-1.082491</td>\n",
       "      <td>-0.357012</td>\n",
       "      <td>1.095022</td>\n",
       "      <td>-0.708792</td>\n",
       "      <td>-1.841641</td>\n",
       "      <td>-0.31429</td>\n",
       "      <td>-0.642003</td>\n",
       "      <td>1.782070</td>\n",
       "      <td>-1.298361</td>\n",
       "      <td>-0.693944</td>\n",
       "      <td>-0.123464</td>\n",
       "      <td>-0.154549</td>\n",
       "      <td>-0.083608</td>\n",
       "      <td>-0.058307</td>\n",
       "      <td>-0.012089</td>\n",
       "      <td>-0.792648</td>\n",
       "      <td>1.138605</td>\n",
       "      <td>-0.616225</td>\n",
       "      <td>-0.570896</td>\n",
       "      <td>1.446626</td>\n",
       "    </tr>\n",
       "    <tr>\n",
       "      <th>3</th>\n",
       "      <td>-0.521001</td>\n",
       "      <td>-0.077850</td>\n",
       "      <td>-0.438063</td>\n",
       "      <td>0.354248</td>\n",
       "      <td>-0.357012</td>\n",
       "      <td>0.178920</td>\n",
       "      <td>0.860811</td>\n",
       "      <td>-0.237839</td>\n",
       "      <td>-0.31429</td>\n",
       "      <td>-0.514224</td>\n",
       "      <td>-1.478018</td>\n",
       "      <td>1.028934</td>\n",
       "      <td>-0.693944</td>\n",
       "      <td>3.099264</td>\n",
       "      <td>-0.154549</td>\n",
       "      <td>-0.083608</td>\n",
       "      <td>-0.058307</td>\n",
       "      <td>-0.012089</td>\n",
       "      <td>-0.792648</td>\n",
       "      <td>1.138605</td>\n",
       "      <td>-0.616225</td>\n",
       "      <td>0.226989</td>\n",
       "      <td>1.446626</td>\n",
       "    </tr>\n",
       "    <tr>\n",
       "      <th>4</th>\n",
       "      <td>-1.365749</td>\n",
       "      <td>-0.261438</td>\n",
       "      <td>0.122311</td>\n",
       "      <td>0.091865</td>\n",
       "      <td>-0.357012</td>\n",
       "      <td>-0.737182</td>\n",
       "      <td>0.991612</td>\n",
       "      <td>0.764538</td>\n",
       "      <td>-0.31429</td>\n",
       "      <td>0.558748</td>\n",
       "      <td>-0.094058</td>\n",
       "      <td>1.115130</td>\n",
       "      <td>-0.573268</td>\n",
       "      <td>-0.123464</td>\n",
       "      <td>-0.154549</td>\n",
       "      <td>-0.083608</td>\n",
       "      <td>-0.058307</td>\n",
       "      <td>-0.012089</td>\n",
       "      <td>-0.792648</td>\n",
       "      <td>-1.257509</td>\n",
       "      <td>1.622784</td>\n",
       "      <td>0.238553</td>\n",
       "      <td>1.446626</td>\n",
       "    </tr>\n",
       "  </tbody>\n",
       "</table>\n",
       "</div>"
      ],
      "text/plain": [
       "   loan_amnt  int_rate  annual_inc       dti  delinq_2yrs  inq_last_6mths  \\\n",
       "0  -1.124392 -0.729587   -0.896551  1.328632    -0.357012        0.178920   \n",
       "1  -1.426088  0.330634   -0.787387 -2.065791    -0.357012        3.843328   \n",
       "2  -1.438156  0.488979   -1.110294 -1.082491    -0.357012        1.095022   \n",
       "3  -0.521001 -0.077850   -0.438063  0.354248    -0.357012        0.178920   \n",
       "4  -1.365749 -0.261438    0.122311  0.091865    -0.357012       -0.737182   \n",
       "\n",
       "   mths_since_last_delinq  open_acc  pub_rec  revol_bal  revol_util  \\\n",
       "0               -0.708792 -1.641166 -0.31429  -0.124888    1.159498   \n",
       "1               -0.708792 -1.641166 -0.31429  -0.703378   -1.965980   \n",
       "2               -0.708792 -1.841641 -0.31429  -0.642003    1.782070   \n",
       "3                0.860811 -0.237839 -0.31429  -0.514224   -1.478018   \n",
       "4                0.991612  0.764538 -0.31429   0.558748   -0.094058   \n",
       "\n",
       "   total_acc  out_prncp  total_rec_late_fee  recoveries  \\\n",
       "0  -1.384557  -0.693944           -0.123464   -0.154549   \n",
       "1  -1.815538  -0.693944           -0.123464    0.057470   \n",
       "2  -1.298361  -0.693944           -0.123464   -0.154549   \n",
       "3   1.028934  -0.693944            3.099264   -0.154549   \n",
       "4   1.115130  -0.573268           -0.123464   -0.154549   \n",
       "\n",
       "   collections_12_mths_ex_med  acc_now_delinq  tot_coll_amt  tot_cur_bal  \\\n",
       "0                   -0.083608       -0.058307     -0.012089    -0.792648   \n",
       "1                   -0.083608       -0.058307     -0.012089    -0.792648   \n",
       "2                   -0.083608       -0.058307     -0.012089    -0.792648   \n",
       "3                   -0.083608       -0.058307     -0.012089    -0.792648   \n",
       "4                   -0.083608       -0.058307     -0.012089    -0.792648   \n",
       "\n",
       "   emp_length_int  term_int  mths_since_earliest_cr_line  mths_since_issue_d  \n",
       "0        1.138605 -0.616225                     1.764941            1.446626  \n",
       "1       -1.523744  1.622784                    -0.212426            1.446626  \n",
       "2        1.138605 -0.616225                    -0.570896            1.446626  \n",
       "3        1.138605 -0.616225                     0.226989            1.446626  \n",
       "4       -1.257509  1.622784                     0.238553            1.446626  "
      ]
     },
     "execution_count": 59,
     "metadata": {},
     "output_type": "execute_result"
    }
   ],
   "source": [
    "std.head()"
   ]
  },
  {
   "cell_type": "markdown",
   "id": "fe95f2f6-6372-46bf-8b8b-58f9ef3f823b",
   "metadata": {},
   "source": [
    "### Transformed Dataframe"
   ]
  },
  {
   "cell_type": "markdown",
   "id": "379b69f2-ab72-460d-a566-f4fbd88d697f",
   "metadata": {},
   "source": [
    "Menggabungkan kembali kolom-kolom hasil transformasi "
   ]
  },
  {
   "cell_type": "code",
   "execution_count": 60,
   "id": "fc2ace56-2789-4a19-9a70-bdb72ee3d680",
   "metadata": {},
   "outputs": [],
   "source": [
    "data_model = pd.concat([onehot, std, data[['bad_flag']]], axis=1)"
   ]
  },
  {
   "cell_type": "markdown",
   "id": "e0b46ea7-3070-4865-beef-9df79ffbc289",
   "metadata": {
    "tags": []
   },
   "source": [
    "# MODELING"
   ]
  },
  {
   "cell_type": "markdown",
   "id": "0b0e6c1a-d336-4f67-b67e-3a8e8a1da5f8",
   "metadata": {},
   "source": [
    "### Train-Test Split"
   ]
  },
  {
   "cell_type": "code",
   "execution_count": 61,
   "id": "84d129a3-759f-4ccd-8522-0a80712a271a",
   "metadata": {},
   "outputs": [],
   "source": [
    "from sklearn.model_selection import train_test_split"
   ]
  },
  {
   "cell_type": "code",
   "execution_count": 62,
   "id": "ce1fdd10-2163-415b-8eb4-987721fa7154",
   "metadata": {},
   "outputs": [],
   "source": [
    "X = data_model.drop('bad_flag', axis=1)\n",
    "y = data_model['bad_flag']\n",
    "\n",
    "X_train, X_test, y_train, y_test = train_test_split(X, y, test_size=0.2, random_state=42)"
   ]
  },
  {
   "cell_type": "code",
   "execution_count": 63,
   "id": "712fafef-a848-4b65-9ce9-3c007d9cef56",
   "metadata": {},
   "outputs": [
    {
     "data": {
      "text/plain": [
       "((373028, 99), (93257, 99))"
      ]
     },
     "execution_count": 63,
     "metadata": {},
     "output_type": "execute_result"
    }
   ],
   "source": [
    "X_train.shape, X_test.shape"
   ]
  },
  {
   "cell_type": "markdown",
   "id": "822eb53e-57c5-4126-821b-07d50274b39c",
   "metadata": {},
   "source": [
    "### Training"
   ]
  },
  {
   "cell_type": "markdown",
   "id": "ab1cc741-d1b3-442a-b5e9-91a507b4d9f6",
   "metadata": {},
   "source": [
    "Pada contoh ini digunakan algoritma Random Forest untuk pemodelan."
   ]
  },
  {
   "cell_type": "code",
   "execution_count": 64,
   "id": "a9409d9a-52c8-4bcb-a08b-e41fcd699285",
   "metadata": {},
   "outputs": [],
   "source": [
    "from sklearn.ensemble import RandomForestClassifier"
   ]
  },
  {
   "cell_type": "code",
   "execution_count": 65,
   "id": "87d787ae-b9ce-48bf-aef1-a906ce6157c9",
   "metadata": {},
   "outputs": [
    {
     "data": {
      "text/plain": [
       "RandomForestClassifier(max_depth=4)"
      ]
     },
     "execution_count": 65,
     "metadata": {},
     "output_type": "execute_result"
    }
   ],
   "source": [
    "rfc = RandomForestClassifier(max_depth=4)\n",
    "rfc.fit(X_train, y_train)"
   ]
  },
  {
   "cell_type": "markdown",
   "id": "aa049614-8711-47a4-9b5d-c354fc9441f5",
   "metadata": {},
   "source": [
    "Feature Importance dapat ditampilkan."
   ]
  },
  {
   "cell_type": "code",
   "execution_count": 66,
   "id": "b3b29f1c-009d-4ca0-9a9c-1a69f4bb7b9e",
   "metadata": {},
   "outputs": [
    {
     "data": {
      "text/html": [
       "<div>\n",
       "<style scoped>\n",
       "    .dataframe tbody tr th:only-of-type {\n",
       "        vertical-align: middle;\n",
       "    }\n",
       "\n",
       "    .dataframe tbody tr th {\n",
       "        vertical-align: top;\n",
       "    }\n",
       "\n",
       "    .dataframe thead th {\n",
       "        text-align: right;\n",
       "    }\n",
       "</style>\n",
       "<table border=\"1\" class=\"dataframe\">\n",
       "  <thead>\n",
       "    <tr style=\"text-align: right;\">\n",
       "      <th></th>\n",
       "      <th>feature</th>\n",
       "      <th>importance</th>\n",
       "    </tr>\n",
       "  </thead>\n",
       "  <tbody>\n",
       "    <tr>\n",
       "      <th>90</th>\n",
       "      <td>recoveries</td>\n",
       "      <td>5.462352e-01</td>\n",
       "    </tr>\n",
       "    <tr>\n",
       "      <th>88</th>\n",
       "      <td>out_prncp</td>\n",
       "      <td>1.458328e-01</td>\n",
       "    </tr>\n",
       "    <tr>\n",
       "      <th>89</th>\n",
       "      <td>total_rec_late_fee</td>\n",
       "      <td>8.124849e-02</td>\n",
       "    </tr>\n",
       "    <tr>\n",
       "      <th>77</th>\n",
       "      <td>int_rate</td>\n",
       "      <td>7.669942e-02</td>\n",
       "    </tr>\n",
       "    <tr>\n",
       "      <th>98</th>\n",
       "      <td>mths_since_issue_d</td>\n",
       "      <td>3.419482e-02</td>\n",
       "    </tr>\n",
       "    <tr>\n",
       "      <th>3</th>\n",
       "      <td>grade_E</td>\n",
       "      <td>1.603792e-02</td>\n",
       "    </tr>\n",
       "    <tr>\n",
       "      <th>4</th>\n",
       "      <td>grade_F</td>\n",
       "      <td>1.470045e-02</td>\n",
       "    </tr>\n",
       "    <tr>\n",
       "      <th>96</th>\n",
       "      <td>term_int</td>\n",
       "      <td>1.205325e-02</td>\n",
       "    </tr>\n",
       "    <tr>\n",
       "      <th>78</th>\n",
       "      <td>annual_inc</td>\n",
       "      <td>9.150181e-03</td>\n",
       "    </tr>\n",
       "    <tr>\n",
       "      <th>94</th>\n",
       "      <td>tot_cur_bal</td>\n",
       "      <td>8.834228e-03</td>\n",
       "    </tr>\n",
       "    <tr>\n",
       "      <th>0</th>\n",
       "      <td>grade_B</td>\n",
       "      <td>8.093587e-03</td>\n",
       "    </tr>\n",
       "    <tr>\n",
       "      <th>81</th>\n",
       "      <td>inq_last_6mths</td>\n",
       "      <td>8.013327e-03</td>\n",
       "    </tr>\n",
       "    <tr>\n",
       "      <th>2</th>\n",
       "      <td>grade_D</td>\n",
       "      <td>8.003020e-03</td>\n",
       "    </tr>\n",
       "    <tr>\n",
       "      <th>5</th>\n",
       "      <td>grade_G</td>\n",
       "      <td>4.870723e-03</td>\n",
       "    </tr>\n",
       "    <tr>\n",
       "      <th>79</th>\n",
       "      <td>dti</td>\n",
       "      <td>3.533636e-03</td>\n",
       "    </tr>\n",
       "    <tr>\n",
       "      <th>12</th>\n",
       "      <td>verification_status_Verified</td>\n",
       "      <td>3.083658e-03</td>\n",
       "    </tr>\n",
       "    <tr>\n",
       "      <th>75</th>\n",
       "      <td>initial_list_status_w</td>\n",
       "      <td>2.959160e-03</td>\n",
       "    </tr>\n",
       "    <tr>\n",
       "      <th>23</th>\n",
       "      <td>purpose_small_business</td>\n",
       "      <td>2.386209e-03</td>\n",
       "    </tr>\n",
       "    <tr>\n",
       "      <th>1</th>\n",
       "      <td>grade_C</td>\n",
       "      <td>2.310444e-03</td>\n",
       "    </tr>\n",
       "    <tr>\n",
       "      <th>10</th>\n",
       "      <td>home_ownership_RENT</td>\n",
       "      <td>1.867147e-03</td>\n",
       "    </tr>\n",
       "    <tr>\n",
       "      <th>76</th>\n",
       "      <td>loan_amnt</td>\n",
       "      <td>1.671312e-03</td>\n",
       "    </tr>\n",
       "    <tr>\n",
       "      <th>86</th>\n",
       "      <td>revol_util</td>\n",
       "      <td>1.583485e-03</td>\n",
       "    </tr>\n",
       "    <tr>\n",
       "      <th>97</th>\n",
       "      <td>mths_since_earliest_cr_line</td>\n",
       "      <td>1.465736e-03</td>\n",
       "    </tr>\n",
       "    <tr>\n",
       "      <th>6</th>\n",
       "      <td>home_ownership_MORTGAGE</td>\n",
       "      <td>1.428890e-03</td>\n",
       "    </tr>\n",
       "    <tr>\n",
       "      <th>13</th>\n",
       "      <td>purpose_credit_card</td>\n",
       "      <td>6.961537e-04</td>\n",
       "    </tr>\n",
       "    <tr>\n",
       "      <th>85</th>\n",
       "      <td>revol_bal</td>\n",
       "      <td>6.325074e-04</td>\n",
       "    </tr>\n",
       "    <tr>\n",
       "      <th>95</th>\n",
       "      <td>emp_length_int</td>\n",
       "      <td>3.988340e-04</td>\n",
       "    </tr>\n",
       "    <tr>\n",
       "      <th>87</th>\n",
       "      <td>total_acc</td>\n",
       "      <td>3.461692e-04</td>\n",
       "    </tr>\n",
       "    <tr>\n",
       "      <th>84</th>\n",
       "      <td>pub_rec</td>\n",
       "      <td>2.292348e-04</td>\n",
       "    </tr>\n",
       "    <tr>\n",
       "      <th>83</th>\n",
       "      <td>open_acc</td>\n",
       "      <td>1.720531e-04</td>\n",
       "    </tr>\n",
       "    <tr>\n",
       "      <th>82</th>\n",
       "      <td>mths_since_last_delinq</td>\n",
       "      <td>1.375681e-04</td>\n",
       "    </tr>\n",
       "    <tr>\n",
       "      <th>93</th>\n",
       "      <td>tot_coll_amt</td>\n",
       "      <td>1.040642e-04</td>\n",
       "    </tr>\n",
       "    <tr>\n",
       "      <th>11</th>\n",
       "      <td>verification_status_Source Verified</td>\n",
       "      <td>1.020679e-04</td>\n",
       "    </tr>\n",
       "    <tr>\n",
       "      <th>67</th>\n",
       "      <td>addr_state_TX</td>\n",
       "      <td>8.359833e-05</td>\n",
       "    </tr>\n",
       "    <tr>\n",
       "      <th>14</th>\n",
       "      <td>purpose_debt_consolidation</td>\n",
       "      <td>8.198997e-05</td>\n",
       "    </tr>\n",
       "    <tr>\n",
       "      <th>21</th>\n",
       "      <td>purpose_other</td>\n",
       "      <td>8.127495e-05</td>\n",
       "    </tr>\n",
       "    <tr>\n",
       "      <th>64</th>\n",
       "      <td>addr_state_SC</td>\n",
       "      <td>6.548569e-05</td>\n",
       "    </tr>\n",
       "    <tr>\n",
       "      <th>92</th>\n",
       "      <td>acc_now_delinq</td>\n",
       "      <td>6.230546e-05</td>\n",
       "    </tr>\n",
       "    <tr>\n",
       "      <th>62</th>\n",
       "      <td>addr_state_PA</td>\n",
       "      <td>5.816120e-05</td>\n",
       "    </tr>\n",
       "    <tr>\n",
       "      <th>91</th>\n",
       "      <td>collections_12_mths_ex_med</td>\n",
       "      <td>5.177690e-05</td>\n",
       "    </tr>\n",
       "    <tr>\n",
       "      <th>8</th>\n",
       "      <td>home_ownership_OTHER</td>\n",
       "      <td>4.207532e-05</td>\n",
       "    </tr>\n",
       "    <tr>\n",
       "      <th>48</th>\n",
       "      <td>addr_state_MN</td>\n",
       "      <td>4.112663e-05</td>\n",
       "    </tr>\n",
       "    <tr>\n",
       "      <th>80</th>\n",
       "      <td>delinq_2yrs</td>\n",
       "      <td>4.091047e-05</td>\n",
       "    </tr>\n",
       "    <tr>\n",
       "      <th>57</th>\n",
       "      <td>addr_state_NV</td>\n",
       "      <td>2.691618e-05</td>\n",
       "    </tr>\n",
       "    <tr>\n",
       "      <th>47</th>\n",
       "      <td>addr_state_MI</td>\n",
       "      <td>2.324901e-05</td>\n",
       "    </tr>\n",
       "    <tr>\n",
       "      <th>61</th>\n",
       "      <td>addr_state_OR</td>\n",
       "      <td>2.260821e-05</td>\n",
       "    </tr>\n",
       "    <tr>\n",
       "      <th>18</th>\n",
       "      <td>purpose_major_purchase</td>\n",
       "      <td>2.227796e-05</td>\n",
       "    </tr>\n",
       "    <tr>\n",
       "      <th>16</th>\n",
       "      <td>purpose_home_improvement</td>\n",
       "      <td>2.157889e-05</td>\n",
       "    </tr>\n",
       "    <tr>\n",
       "      <th>34</th>\n",
       "      <td>addr_state_FL</td>\n",
       "      <td>1.964183e-05</td>\n",
       "    </tr>\n",
       "    <tr>\n",
       "      <th>22</th>\n",
       "      <td>purpose_renewable_energy</td>\n",
       "      <td>1.576676e-05</td>\n",
       "    </tr>\n",
       "    <tr>\n",
       "      <th>42</th>\n",
       "      <td>addr_state_KY</td>\n",
       "      <td>1.483503e-05</td>\n",
       "    </tr>\n",
       "    <tr>\n",
       "      <th>25</th>\n",
       "      <td>purpose_wedding</td>\n",
       "      <td>1.150168e-05</td>\n",
       "    </tr>\n",
       "    <tr>\n",
       "      <th>36</th>\n",
       "      <td>addr_state_HI</td>\n",
       "      <td>1.084084e-05</td>\n",
       "    </tr>\n",
       "    <tr>\n",
       "      <th>19</th>\n",
       "      <td>purpose_medical</td>\n",
       "      <td>1.004987e-05</td>\n",
       "    </tr>\n",
       "    <tr>\n",
       "      <th>51</th>\n",
       "      <td>addr_state_MT</td>\n",
       "      <td>9.720904e-06</td>\n",
       "    </tr>\n",
       "    <tr>\n",
       "      <th>26</th>\n",
       "      <td>addr_state_AL</td>\n",
       "      <td>9.379553e-06</td>\n",
       "    </tr>\n",
       "    <tr>\n",
       "      <th>24</th>\n",
       "      <td>purpose_vacation</td>\n",
       "      <td>8.165587e-06</td>\n",
       "    </tr>\n",
       "    <tr>\n",
       "      <th>55</th>\n",
       "      <td>addr_state_NJ</td>\n",
       "      <td>7.720268e-06</td>\n",
       "    </tr>\n",
       "    <tr>\n",
       "      <th>68</th>\n",
       "      <td>addr_state_UT</td>\n",
       "      <td>7.162574e-06</td>\n",
       "    </tr>\n",
       "    <tr>\n",
       "      <th>39</th>\n",
       "      <td>addr_state_IL</td>\n",
       "      <td>6.885303e-06</td>\n",
       "    </tr>\n",
       "    <tr>\n",
       "      <th>44</th>\n",
       "      <td>addr_state_MA</td>\n",
       "      <td>6.161166e-06</td>\n",
       "    </tr>\n",
       "    <tr>\n",
       "      <th>31</th>\n",
       "      <td>addr_state_CT</td>\n",
       "      <td>6.121259e-06</td>\n",
       "    </tr>\n",
       "    <tr>\n",
       "      <th>54</th>\n",
       "      <td>addr_state_NH</td>\n",
       "      <td>5.251081e-06</td>\n",
       "    </tr>\n",
       "    <tr>\n",
       "      <th>40</th>\n",
       "      <td>addr_state_IN</td>\n",
       "      <td>4.703346e-06</td>\n",
       "    </tr>\n",
       "    <tr>\n",
       "      <th>29</th>\n",
       "      <td>addr_state_CA</td>\n",
       "      <td>4.600458e-06</td>\n",
       "    </tr>\n",
       "    <tr>\n",
       "      <th>49</th>\n",
       "      <td>addr_state_MO</td>\n",
       "      <td>4.427895e-06</td>\n",
       "    </tr>\n",
       "    <tr>\n",
       "      <th>66</th>\n",
       "      <td>addr_state_TN</td>\n",
       "      <td>4.349199e-06</td>\n",
       "    </tr>\n",
       "    <tr>\n",
       "      <th>15</th>\n",
       "      <td>purpose_educational</td>\n",
       "      <td>3.959755e-06</td>\n",
       "    </tr>\n",
       "    <tr>\n",
       "      <th>56</th>\n",
       "      <td>addr_state_NM</td>\n",
       "      <td>3.430209e-06</td>\n",
       "    </tr>\n",
       "    <tr>\n",
       "      <th>9</th>\n",
       "      <td>home_ownership_OWN</td>\n",
       "      <td>3.082701e-06</td>\n",
       "    </tr>\n",
       "    <tr>\n",
       "      <th>69</th>\n",
       "      <td>addr_state_VA</td>\n",
       "      <td>3.037828e-06</td>\n",
       "    </tr>\n",
       "    <tr>\n",
       "      <th>20</th>\n",
       "      <td>purpose_moving</td>\n",
       "      <td>2.692044e-06</td>\n",
       "    </tr>\n",
       "    <tr>\n",
       "      <th>45</th>\n",
       "      <td>addr_state_MD</td>\n",
       "      <td>2.429693e-06</td>\n",
       "    </tr>\n",
       "    <tr>\n",
       "      <th>41</th>\n",
       "      <td>addr_state_KS</td>\n",
       "      <td>2.242538e-06</td>\n",
       "    </tr>\n",
       "    <tr>\n",
       "      <th>60</th>\n",
       "      <td>addr_state_OK</td>\n",
       "      <td>2.198978e-06</td>\n",
       "    </tr>\n",
       "    <tr>\n",
       "      <th>58</th>\n",
       "      <td>addr_state_NY</td>\n",
       "      <td>1.657578e-06</td>\n",
       "    </tr>\n",
       "    <tr>\n",
       "      <th>72</th>\n",
       "      <td>addr_state_WI</td>\n",
       "      <td>1.412130e-06</td>\n",
       "    </tr>\n",
       "    <tr>\n",
       "      <th>28</th>\n",
       "      <td>addr_state_AZ</td>\n",
       "      <td>1.268502e-06</td>\n",
       "    </tr>\n",
       "    <tr>\n",
       "      <th>30</th>\n",
       "      <td>addr_state_CO</td>\n",
       "      <td>1.004547e-06</td>\n",
       "    </tr>\n",
       "    <tr>\n",
       "      <th>43</th>\n",
       "      <td>addr_state_LA</td>\n",
       "      <td>7.349593e-07</td>\n",
       "    </tr>\n",
       "    <tr>\n",
       "      <th>17</th>\n",
       "      <td>purpose_house</td>\n",
       "      <td>6.640946e-07</td>\n",
       "    </tr>\n",
       "    <tr>\n",
       "      <th>63</th>\n",
       "      <td>addr_state_RI</td>\n",
       "      <td>6.016326e-07</td>\n",
       "    </tr>\n",
       "    <tr>\n",
       "      <th>35</th>\n",
       "      <td>addr_state_GA</td>\n",
       "      <td>5.533929e-07</td>\n",
       "    </tr>\n",
       "    <tr>\n",
       "      <th>33</th>\n",
       "      <td>addr_state_DE</td>\n",
       "      <td>2.825118e-07</td>\n",
       "    </tr>\n",
       "    <tr>\n",
       "      <th>59</th>\n",
       "      <td>addr_state_OH</td>\n",
       "      <td>1.157115e-07</td>\n",
       "    </tr>\n",
       "    <tr>\n",
       "      <th>74</th>\n",
       "      <td>addr_state_WY</td>\n",
       "      <td>9.122915e-08</td>\n",
       "    </tr>\n",
       "    <tr>\n",
       "      <th>71</th>\n",
       "      <td>addr_state_WA</td>\n",
       "      <td>8.491903e-08</td>\n",
       "    </tr>\n",
       "    <tr>\n",
       "      <th>53</th>\n",
       "      <td>addr_state_NE</td>\n",
       "      <td>0.000000e+00</td>\n",
       "    </tr>\n",
       "    <tr>\n",
       "      <th>27</th>\n",
       "      <td>addr_state_AR</td>\n",
       "      <td>0.000000e+00</td>\n",
       "    </tr>\n",
       "    <tr>\n",
       "      <th>70</th>\n",
       "      <td>addr_state_VT</td>\n",
       "      <td>0.000000e+00</td>\n",
       "    </tr>\n",
       "    <tr>\n",
       "      <th>7</th>\n",
       "      <td>home_ownership_NONE</td>\n",
       "      <td>0.000000e+00</td>\n",
       "    </tr>\n",
       "    <tr>\n",
       "      <th>32</th>\n",
       "      <td>addr_state_DC</td>\n",
       "      <td>0.000000e+00</td>\n",
       "    </tr>\n",
       "    <tr>\n",
       "      <th>37</th>\n",
       "      <td>addr_state_IA</td>\n",
       "      <td>0.000000e+00</td>\n",
       "    </tr>\n",
       "    <tr>\n",
       "      <th>65</th>\n",
       "      <td>addr_state_SD</td>\n",
       "      <td>0.000000e+00</td>\n",
       "    </tr>\n",
       "    <tr>\n",
       "      <th>52</th>\n",
       "      <td>addr_state_NC</td>\n",
       "      <td>0.000000e+00</td>\n",
       "    </tr>\n",
       "    <tr>\n",
       "      <th>46</th>\n",
       "      <td>addr_state_ME</td>\n",
       "      <td>0.000000e+00</td>\n",
       "    </tr>\n",
       "    <tr>\n",
       "      <th>50</th>\n",
       "      <td>addr_state_MS</td>\n",
       "      <td>0.000000e+00</td>\n",
       "    </tr>\n",
       "    <tr>\n",
       "      <th>73</th>\n",
       "      <td>addr_state_WV</td>\n",
       "      <td>0.000000e+00</td>\n",
       "    </tr>\n",
       "    <tr>\n",
       "      <th>38</th>\n",
       "      <td>addr_state_ID</td>\n",
       "      <td>0.000000e+00</td>\n",
       "    </tr>\n",
       "  </tbody>\n",
       "</table>\n",
       "</div>"
      ],
      "text/plain": [
       "                                feature    importance\n",
       "90                           recoveries  5.462352e-01\n",
       "88                            out_prncp  1.458328e-01\n",
       "89                   total_rec_late_fee  8.124849e-02\n",
       "77                             int_rate  7.669942e-02\n",
       "98                   mths_since_issue_d  3.419482e-02\n",
       "3                               grade_E  1.603792e-02\n",
       "4                               grade_F  1.470045e-02\n",
       "96                             term_int  1.205325e-02\n",
       "78                           annual_inc  9.150181e-03\n",
       "94                          tot_cur_bal  8.834228e-03\n",
       "0                               grade_B  8.093587e-03\n",
       "81                       inq_last_6mths  8.013327e-03\n",
       "2                               grade_D  8.003020e-03\n",
       "5                               grade_G  4.870723e-03\n",
       "79                                  dti  3.533636e-03\n",
       "12         verification_status_Verified  3.083658e-03\n",
       "75                initial_list_status_w  2.959160e-03\n",
       "23               purpose_small_business  2.386209e-03\n",
       "1                               grade_C  2.310444e-03\n",
       "10                  home_ownership_RENT  1.867147e-03\n",
       "76                            loan_amnt  1.671312e-03\n",
       "86                           revol_util  1.583485e-03\n",
       "97          mths_since_earliest_cr_line  1.465736e-03\n",
       "6               home_ownership_MORTGAGE  1.428890e-03\n",
       "13                  purpose_credit_card  6.961537e-04\n",
       "85                            revol_bal  6.325074e-04\n",
       "95                       emp_length_int  3.988340e-04\n",
       "87                            total_acc  3.461692e-04\n",
       "84                              pub_rec  2.292348e-04\n",
       "83                             open_acc  1.720531e-04\n",
       "82               mths_since_last_delinq  1.375681e-04\n",
       "93                         tot_coll_amt  1.040642e-04\n",
       "11  verification_status_Source Verified  1.020679e-04\n",
       "67                        addr_state_TX  8.359833e-05\n",
       "14           purpose_debt_consolidation  8.198997e-05\n",
       "21                        purpose_other  8.127495e-05\n",
       "64                        addr_state_SC  6.548569e-05\n",
       "92                       acc_now_delinq  6.230546e-05\n",
       "62                        addr_state_PA  5.816120e-05\n",
       "91           collections_12_mths_ex_med  5.177690e-05\n",
       "8                  home_ownership_OTHER  4.207532e-05\n",
       "48                        addr_state_MN  4.112663e-05\n",
       "80                          delinq_2yrs  4.091047e-05\n",
       "57                        addr_state_NV  2.691618e-05\n",
       "47                        addr_state_MI  2.324901e-05\n",
       "61                        addr_state_OR  2.260821e-05\n",
       "18               purpose_major_purchase  2.227796e-05\n",
       "16             purpose_home_improvement  2.157889e-05\n",
       "34                        addr_state_FL  1.964183e-05\n",
       "22             purpose_renewable_energy  1.576676e-05\n",
       "42                        addr_state_KY  1.483503e-05\n",
       "25                      purpose_wedding  1.150168e-05\n",
       "36                        addr_state_HI  1.084084e-05\n",
       "19                      purpose_medical  1.004987e-05\n",
       "51                        addr_state_MT  9.720904e-06\n",
       "26                        addr_state_AL  9.379553e-06\n",
       "24                     purpose_vacation  8.165587e-06\n",
       "55                        addr_state_NJ  7.720268e-06\n",
       "68                        addr_state_UT  7.162574e-06\n",
       "39                        addr_state_IL  6.885303e-06\n",
       "44                        addr_state_MA  6.161166e-06\n",
       "31                        addr_state_CT  6.121259e-06\n",
       "54                        addr_state_NH  5.251081e-06\n",
       "40                        addr_state_IN  4.703346e-06\n",
       "29                        addr_state_CA  4.600458e-06\n",
       "49                        addr_state_MO  4.427895e-06\n",
       "66                        addr_state_TN  4.349199e-06\n",
       "15                  purpose_educational  3.959755e-06\n",
       "56                        addr_state_NM  3.430209e-06\n",
       "9                    home_ownership_OWN  3.082701e-06\n",
       "69                        addr_state_VA  3.037828e-06\n",
       "20                       purpose_moving  2.692044e-06\n",
       "45                        addr_state_MD  2.429693e-06\n",
       "41                        addr_state_KS  2.242538e-06\n",
       "60                        addr_state_OK  2.198978e-06\n",
       "58                        addr_state_NY  1.657578e-06\n",
       "72                        addr_state_WI  1.412130e-06\n",
       "28                        addr_state_AZ  1.268502e-06\n",
       "30                        addr_state_CO  1.004547e-06\n",
       "43                        addr_state_LA  7.349593e-07\n",
       "17                        purpose_house  6.640946e-07\n",
       "63                        addr_state_RI  6.016326e-07\n",
       "35                        addr_state_GA  5.533929e-07\n",
       "33                        addr_state_DE  2.825118e-07\n",
       "59                        addr_state_OH  1.157115e-07\n",
       "74                        addr_state_WY  9.122915e-08\n",
       "71                        addr_state_WA  8.491903e-08\n",
       "53                        addr_state_NE  0.000000e+00\n",
       "27                        addr_state_AR  0.000000e+00\n",
       "70                        addr_state_VT  0.000000e+00\n",
       "7                   home_ownership_NONE  0.000000e+00\n",
       "32                        addr_state_DC  0.000000e+00\n",
       "37                        addr_state_IA  0.000000e+00\n",
       "65                        addr_state_SD  0.000000e+00\n",
       "52                        addr_state_NC  0.000000e+00\n",
       "46                        addr_state_ME  0.000000e+00\n",
       "50                        addr_state_MS  0.000000e+00\n",
       "73                        addr_state_WV  0.000000e+00\n",
       "38                        addr_state_ID  0.000000e+00"
      ]
     },
     "execution_count": 66,
     "metadata": {},
     "output_type": "execute_result"
    }
   ],
   "source": [
    "arr_feature_importances = rfc.feature_importances_\n",
    "arr_feature_names = X_train.columns.values\n",
    "    \n",
    "df_feature_importance = pd.DataFrame(index=range(len(arr_feature_importances)), columns=['feature', 'importance'])\n",
    "df_feature_importance['feature'] = arr_feature_names\n",
    "df_feature_importance['importance'] = arr_feature_importances\n",
    "df_all_features = df_feature_importance.sort_values(by='importance', ascending=False)\n",
    "df_all_features"
   ]
  },
  {
   "cell_type": "markdown",
   "id": "b9885137-7b1c-4abd-bc4e-793dbb509493",
   "metadata": {
    "tags": []
   },
   "source": [
    "### Validation"
   ]
  },
  {
   "cell_type": "markdown",
   "id": "9172461d-9baa-4929-9abe-c2ade127f9c8",
   "metadata": {},
   "source": [
    "Untuk mengukur performa model, dua metrik yang umum dipakai dalam dunia credit risk adalah AUC dan KS."
   ]
  },
  {
   "cell_type": "code",
   "execution_count": 67,
   "id": "8ed8e2b1-f26d-4dc8-a2cd-2a3681add028",
   "metadata": {},
   "outputs": [],
   "source": [
    "y_pred_proba = rfc.predict_proba(X_test)[:][:,1]\n",
    "\n",
    "df_actual_predicted = pd.concat([pd.DataFrame(np.array(y_test), columns=['y_actual']), pd.DataFrame(y_pred_proba, columns=['y_pred_proba'])], axis=1)\n",
    "df_actual_predicted.index = y_test.index"
   ]
  },
  {
   "cell_type": "markdown",
   "id": "bd4dd566-220e-4f72-b735-ad87d6372f0d",
   "metadata": {},
   "source": [
    "#### AUC "
   ]
  },
  {
   "cell_type": "code",
   "execution_count": 68,
   "id": "ad888543-db48-4be0-8135-abfd3e662b59",
   "metadata": {},
   "outputs": [],
   "source": [
    "from sklearn.metrics import roc_curve, roc_auc_score"
   ]
  },
  {
   "cell_type": "code",
   "execution_count": 69,
   "id": "3caca03b-ef02-4875-9825-4b612447cd49",
   "metadata": {},
   "outputs": [
    {
     "data": {
      "text/plain": [
       "<matplotlib.legend.Legend at 0x7fcd63311fa0>"
      ]
     },
     "execution_count": 69,
     "metadata": {},
     "output_type": "execute_result"
    },
    {
     "data": {
      "image/png": "[encoded data removed]",
      "text/plain": [
       "<Figure size 432x288 with 1 Axes>"
      ]
     },
     "metadata": {},
     "output_type": "display_data"
    }
   ],
   "source": [
    "fpr, tpr, tr = roc_curve(df_actual_predicted['y_actual'], df_actual_predicted['y_pred_proba'])\n",
    "auc = roc_auc_score(df_actual_predicted['y_actual'], df_actual_predicted['y_pred_proba'])\n",
    "\n",
    "plt.plot(fpr, tpr, label='AUC = %0.4f' %auc)\n",
    "plt.plot(fpr, fpr, linestyle = '--', color='k')\n",
    "plt.xlabel('False Positive Rate')\n",
    "plt.ylabel('True Positive Rate')\n",
    "plt.title('ROC Curve')\n",
    "plt.legend()"
   ]
  },
  {
   "cell_type": "markdown",
   "id": "926486bb-b1a0-4829-bea2-649735bd5b92",
   "metadata": {},
   "source": [
    "#### KS "
   ]
  },
  {
   "cell_type": "code",
   "execution_count": 70,
   "id": "7a2263f0-f5e3-4e07-add1-896f859bd584",
   "metadata": {},
   "outputs": [],
   "source": [
    "df_actual_predicted = df_actual_predicted.sort_values('y_pred_proba')\n",
    "df_actual_predicted = df_actual_predicted.reset_index()\n",
    "\n",
    "df_actual_predicted['Cumulative N Population'] = df_actual_predicted.index + 1\n",
    "df_actual_predicted['Cumulative N Bad'] = df_actual_predicted['y_actual'].cumsum()\n",
    "df_actual_predicted['Cumulative N Good'] = df_actual_predicted['Cumulative N Population'] - df_actual_predicted['Cumulative N Bad']\n",
    "df_actual_predicted['Cumulative Perc Population'] = df_actual_predicted['Cumulative N Population'] / df_actual_predicted.shape[0]\n",
    "df_actual_predicted['Cumulative Perc Bad'] = df_actual_predicted['Cumulative N Bad'] / df_actual_predicted['y_actual'].sum()\n",
    "df_actual_predicted['Cumulative Perc Good'] = df_actual_predicted['Cumulative N Good'] / (df_actual_predicted.shape[0] - df_actual_predicted['y_actual'].sum())"
   ]
  },
  {
   "cell_type": "code",
   "execution_count": 71,
   "id": "2d5b2b28-601b-470f-a6fd-6031143bd3ab",
   "metadata": {},
   "outputs": [
    {
     "data": {
      "text/html": [
       "<div>\n",
       "<style scoped>\n",
       "    .dataframe tbody tr th:only-of-type {\n",
       "        vertical-align: middle;\n",
       "    }\n",
       "\n",
       "    .dataframe tbody tr th {\n",
       "        vertical-align: top;\n",
       "    }\n",
       "\n",
       "    .dataframe thead th {\n",
       "        text-align: right;\n",
       "    }\n",
       "</style>\n",
       "<table border=\"1\" class=\"dataframe\">\n",
       "  <thead>\n",
       "    <tr style=\"text-align: right;\">\n",
       "      <th></th>\n",
       "      <th>index</th>\n",
       "      <th>y_actual</th>\n",
       "      <th>y_pred_proba</th>\n",
       "      <th>Cumulative N Population</th>\n",
       "      <th>Cumulative N Bad</th>\n",
       "      <th>Cumulative N Good</th>\n",
       "      <th>Cumulative Perc Population</th>\n",
       "      <th>Cumulative Perc Bad</th>\n",
       "      <th>Cumulative Perc Good</th>\n",
       "    </tr>\n",
       "  </thead>\n",
       "  <tbody>\n",
       "    <tr>\n",
       "      <th>0</th>\n",
       "      <td>294816</td>\n",
       "      <td>0</td>\n",
       "      <td>0.043598</td>\n",
       "      <td>1</td>\n",
       "      <td>0</td>\n",
       "      <td>1</td>\n",
       "      <td>0.000011</td>\n",
       "      <td>0.0</td>\n",
       "      <td>0.000012</td>\n",
       "    </tr>\n",
       "    <tr>\n",
       "      <th>1</th>\n",
       "      <td>271774</td>\n",
       "      <td>0</td>\n",
       "      <td>0.043755</td>\n",
       "      <td>2</td>\n",
       "      <td>0</td>\n",
       "      <td>2</td>\n",
       "      <td>0.000021</td>\n",
       "      <td>0.0</td>\n",
       "      <td>0.000024</td>\n",
       "    </tr>\n",
       "    <tr>\n",
       "      <th>2</th>\n",
       "      <td>279378</td>\n",
       "      <td>0</td>\n",
       "      <td>0.043784</td>\n",
       "      <td>3</td>\n",
       "      <td>0</td>\n",
       "      <td>3</td>\n",
       "      <td>0.000032</td>\n",
       "      <td>0.0</td>\n",
       "      <td>0.000036</td>\n",
       "    </tr>\n",
       "    <tr>\n",
       "      <th>3</th>\n",
       "      <td>322307</td>\n",
       "      <td>0</td>\n",
       "      <td>0.043965</td>\n",
       "      <td>4</td>\n",
       "      <td>0</td>\n",
       "      <td>4</td>\n",
       "      <td>0.000043</td>\n",
       "      <td>0.0</td>\n",
       "      <td>0.000048</td>\n",
       "    </tr>\n",
       "    <tr>\n",
       "      <th>4</th>\n",
       "      <td>374007</td>\n",
       "      <td>0</td>\n",
       "      <td>0.043972</td>\n",
       "      <td>5</td>\n",
       "      <td>0</td>\n",
       "      <td>5</td>\n",
       "      <td>0.000054</td>\n",
       "      <td>0.0</td>\n",
       "      <td>0.000060</td>\n",
       "    </tr>\n",
       "  </tbody>\n",
       "</table>\n",
       "</div>"
      ],
      "text/plain": [
       "    index  y_actual  y_pred_proba  Cumulative N Population  Cumulative N Bad  \\\n",
       "0  294816         0      0.043598                        1                 0   \n",
       "1  271774         0      0.043755                        2                 0   \n",
       "2  279378         0      0.043784                        3                 0   \n",
       "3  322307         0      0.043965                        4                 0   \n",
       "4  374007         0      0.043972                        5                 0   \n",
       "\n",
       "   Cumulative N Good  Cumulative Perc Population  Cumulative Perc Bad  \\\n",
       "0                  1                    0.000011                  0.0   \n",
       "1                  2                    0.000021                  0.0   \n",
       "2                  3                    0.000032                  0.0   \n",
       "3                  4                    0.000043                  0.0   \n",
       "4                  5                    0.000054                  0.0   \n",
       "\n",
       "   Cumulative Perc Good  \n",
       "0              0.000012  \n",
       "1              0.000024  \n",
       "2              0.000036  \n",
       "3              0.000048  \n",
       "4              0.000060  "
      ]
     },
     "execution_count": 71,
     "metadata": {},
     "output_type": "execute_result"
    }
   ],
   "source": [
    "df_actual_predicted.head()"
   ]
  },
  {
   "cell_type": "code",
   "execution_count": 72,
   "id": "441a4f8b-c2ca-4edd-8930-66700645d818",
   "metadata": {},
   "outputs": [
    {
     "data": {
      "text/plain": [
       "Text(0.5, 1.0, 'Kolmogorov-Smirnov:  0.5634')"
      ]
     },
     "execution_count": 72,
     "metadata": {},
     "output_type": "execute_result"
    },
    {
     "data": {
      "image/png": "[encoded data removed]",
      "text/plain": [
       "<Figure size 432x288 with 1 Axes>"
      ]
     },
     "metadata": {},
     "output_type": "display_data"
    }
   ],
   "source": [
    "KS = max(df_actual_predicted['Cumulative Perc Good'] - df_actual_predicted['Cumulative Perc Bad'])\n",
    "\n",
    "plt.plot(df_actual_predicted['y_pred_proba'], df_actual_predicted['Cumulative Perc Bad'], color='r')\n",
    "plt.plot(df_actual_predicted['y_pred_proba'], df_actual_predicted['Cumulative Perc Good'], color='b')\n",
    "plt.xlabel('Estimated Probability for Being Bad')\n",
    "plt.ylabel('Cumulative %')\n",
    "plt.title('Kolmogorov-Smirnov:  %0.4f' %KS)"
   ]
  },
  {
   "cell_type": "markdown",
   "id": "1dbdd107-1b69-4e89-96aa-9cb27a093a09",
   "metadata": {},
   "source": [
    "Model yang dibangun menghasilkan performa `AUC = 0.857` dan `KS = 0.56`. Pada dunia credit risk modeling, umumnya AUC di atas 0.7 dan KS di atas 0.3 sudah termasuk performa yang baik."
   ]
  },
  {
   "cell_type": "markdown",
   "id": "ac3d818f-24f5-4784-9666-5e9f5a493263",
   "metadata": {},
   "source": [
    "# SARAN"
   ]
  },
  {
   "cell_type": "markdown",
   "id": "8f0ecac4-e968-4711-935e-03c3fae15139",
   "metadata": {},
   "source": [
    "Beberapa hal lain yang dapat dilakukan untuk project ini:\n",
    "\n",
    "- Jika menginginkan interpretabilitas yang lebih tinggi, dapat mempertimbangkan untuk membuat Credit Scorecard dengan menggunakan algoritma Logistic Regression dengan pendekatan-pendekatannya seperti Feature Selection menggunakan Information Value dan Feature Engineering menggunakan Weight of Evidence.\n",
    "\n",
    "- Jika interpretabilitas tidak terlalu dibutuhkan, dapat mempertimbangkan untuk mencoba algoritma-algoritma Machine Learning lainnya seperti Boosting.\n",
    "\n",
    "- Melakukan hyperparameter tuning.\n",
    "\n",
    "- Melakukan pemeriksaan atau memastikan bahwa model yang telah dibuat tidak overfitting. Hal ini dapat dilakukan dengan mencoba membandingkan hasil performa model ketika diprediksi terhadap data training dan ketika diprediksi terhadap data testing.\n",
    "\n",
    "- Umumnya, langkah yang lebih tepat adalah melakukan Train-Test Split terlebih dahulu sebelum melakukan transformasi fitur seperti encoding atau scaling. Namun, karena alasan simplisitas contoh ini melakukan sebaliknya karena umumnya perbedaan performa juga tidak terlalu berbeda."
   ]
  },
  {
   "cell_type": "code",
   "execution_count": null,
   "id": "4edacb1d-15c5-483f-b9f6-84967e5c80d0",
   "metadata": {},
   "outputs": [],
   "source": []
  }
 ],
 "metadata": {
  "kernelspec": {
   "display_name": "Python 3 (ipykernel)",
   "language": "python",
   "name": "python3"
  },
  "language_info": {
   "codemirror_mode": {
    "name": "ipython",
    "version": 3
   },
   "file_extension": ".py",
   "mimetype": "text/x-python",
   "name": "python",
   "nbconvert_exporter": "python",
   "pygments_lexer": "ipython3",
   "version": "3.9.7"
  }
 },
 "nbformat": 4,
 "nbformat_minor": 5
}
